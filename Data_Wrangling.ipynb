{
  "nbformat": 4,
  "nbformat_minor": 0,
  "metadata": {
    "colab": {
      "name": "Datasets_Tfm.ipynb",
      "provenance": [],
      "collapsed_sections": []
    },
    "kernelspec": {
      "name": "python3",
      "display_name": "Python 3"
    },
    "language_info": {
      "name": "python"
    }
  },
  "cells": [
    {
      "cell_type": "code",
      "metadata": {
        "id": "SBQAUN3jDmyr",
        "colab": {
          "base_uri": "https://localhost:8080/"
        },
        "outputId": "165105c9-72e3-4ca4-e9f9-8f35c5e89584"
      },
      "source": [
        "!pwd"
      ],
      "execution_count": null,
      "outputs": [
        {
          "output_type": "stream",
          "text": [
            "/content\n"
          ],
          "name": "stdout"
        }
      ]
    },
    {
      "cell_type": "code",
      "metadata": {
        "id": "WFJfO4ctQavz"
      },
      "source": [
        "import pandas as pd\n",
        "import numpy as np\n",
        "import os\n",
        "import glob\n",
        "\n",
        "import matplotlib.pyplot as plt\n"
      ],
      "execution_count": null,
      "outputs": []
    },
    {
      "cell_type": "code",
      "metadata": {
        "colab": {
          "base_uri": "https://localhost:8080/"
        },
        "id": "iVgVLSzgSLED",
        "outputId": "60f714bc-cf0e-4da3-ed99-5ca66faa2db8"
      },
      "source": [
        "from google.colab import drive\n",
        "drive.mount('/content/drive')"
      ],
      "execution_count": null,
      "outputs": [
        {
          "output_type": "stream",
          "text": [
            "Drive already mounted at /content/drive; to attempt to forcibly remount, call drive.mount(\"/content/drive\", force_remount=True).\n"
          ],
          "name": "stdout"
        }
      ]
    },
    {
      "cell_type": "markdown",
      "metadata": {
        "id": "KRDgLClOSL2r"
      },
      "source": [
        "## D1NAMO_glucose"
      ]
    },
    {
      "cell_type": "code",
      "metadata": {
        "id": "SW_6xqd4TTwz"
      },
      "source": [
        "def open_files(files):\n",
        "    list_df=[]\n",
        "    for filename in files:\n",
        "\n",
        "        data_file = os.path.join(root, filename)\n",
        "\n",
        "\n",
        "        dfs1 = pd.read_csv(data_file, sep=',', header=None, encoding='utf-8', \n",
        "                          names=final_columns)\n",
        "        dfs1['date'] = dfs1.date\n",
        "        dfs1['id'] = filename\n",
        "\n",
        "        list_df.append(dfs1)\n",
        "\n",
        "\n",
        "    dfs1 = pd.concat(list_df)\n",
        "    dfs1 = dfs1.drop(dfs1[dfs1.date=='date'].index).reset_index(drop=True)\n",
        "    del dfs1['comments']\n",
        "    return dfs1"
      ],
      "execution_count": null,
      "outputs": []
    },
    {
      "cell_type": "code",
      "metadata": {
        "id": "_J1Ros78Thqj"
      },
      "source": [
        "root = '/content/drive/My Drive/Colab Notebooks/glucose/D1NAMO_glucose'\n",
        "\n",
        "files = [f for f in os.listdir(root) if f.endswith(\".csv\")]\n",
        "\n",
        "final_columns=['date', 'time', 'glucose', 'id','comments']"
      ],
      "execution_count": null,
      "outputs": []
    },
    {
      "cell_type": "code",
      "metadata": {
        "id": "nmujIjXSTkYe"
      },
      "source": [
        "dfs = open_files(files)"
      ],
      "execution_count": null,
      "outputs": []
    },
    {
      "cell_type": "code",
      "metadata": {
        "id": "mATkmkQATlah"
      },
      "source": [
        "dfs['glucose'] = dfs['glucose'].astype(float)*18.018\n",
        "datetime = dfs.date + ' ' + dfs1.time\n",
        "\n",
        "dfs['datetime'] = pd.to_datetime(datetime, format= '%Y/%m/%d %H:%M:%S', yearfirst=True)"
      ],
      "execution_count": null,
      "outputs": []
    },
    {
      "cell_type": "code",
      "metadata": {
        "colab": {
          "base_uri": "https://localhost:8080/",
          "height": 204
        },
        "id": "aFp7QIydTptF",
        "outputId": "8be4957e-77c5-4c17-e7c1-24b048494be7"
      },
      "source": [
        "dfs.head()"
      ],
      "execution_count": null,
      "outputs": [
        {
          "output_type": "execute_result",
          "data": {
            "text/html": [
              "<div>\n",
              "<style scoped>\n",
              "    .dataframe tbody tr th:only-of-type {\n",
              "        vertical-align: middle;\n",
              "    }\n",
              "\n",
              "    .dataframe tbody tr th {\n",
              "        vertical-align: top;\n",
              "    }\n",
              "\n",
              "    .dataframe thead th {\n",
              "        text-align: right;\n",
              "    }\n",
              "</style>\n",
              "<table border=\"1\" class=\"dataframe\">\n",
              "  <thead>\n",
              "    <tr style=\"text-align: right;\">\n",
              "      <th></th>\n",
              "      <th>date</th>\n",
              "      <th>time</th>\n",
              "      <th>glucose</th>\n",
              "      <th>id</th>\n",
              "      <th>datetime</th>\n",
              "    </tr>\n",
              "  </thead>\n",
              "  <tbody>\n",
              "    <tr>\n",
              "      <th>0</th>\n",
              "      <td>2014-10-01</td>\n",
              "      <td>09:00:00</td>\n",
              "      <td>97.2972</td>\n",
              "      <td>glucose_07.csv</td>\n",
              "      <td>2014-10-01 09:00:00</td>\n",
              "    </tr>\n",
              "    <tr>\n",
              "      <th>1</th>\n",
              "      <td>2014-10-01</td>\n",
              "      <td>11:49:59</td>\n",
              "      <td>68.4684</td>\n",
              "      <td>glucose_07.csv</td>\n",
              "      <td>2014-10-01 11:49:59</td>\n",
              "    </tr>\n",
              "    <tr>\n",
              "      <th>2</th>\n",
              "      <td>2014-10-01</td>\n",
              "      <td>11:54:59</td>\n",
              "      <td>72.0720</td>\n",
              "      <td>glucose_07.csv</td>\n",
              "      <td>2014-10-01 11:54:59</td>\n",
              "    </tr>\n",
              "    <tr>\n",
              "      <th>3</th>\n",
              "      <td>2014-10-01</td>\n",
              "      <td>11:59:59</td>\n",
              "      <td>75.6756</td>\n",
              "      <td>glucose_07.csv</td>\n",
              "      <td>2014-10-01 11:59:59</td>\n",
              "    </tr>\n",
              "    <tr>\n",
              "      <th>4</th>\n",
              "      <td>2014-10-01</td>\n",
              "      <td>12:00:00</td>\n",
              "      <td>97.2972</td>\n",
              "      <td>glucose_07.csv</td>\n",
              "      <td>2014-10-01 12:00:00</td>\n",
              "    </tr>\n",
              "  </tbody>\n",
              "</table>\n",
              "</div>"
            ],
            "text/plain": [
              "         date      time  glucose              id            datetime\n",
              "0  2014-10-01  09:00:00  97.2972  glucose_07.csv 2014-10-01 09:00:00\n",
              "1  2014-10-01  11:49:59  68.4684  glucose_07.csv 2014-10-01 11:49:59\n",
              "2  2014-10-01  11:54:59  72.0720  glucose_07.csv 2014-10-01 11:54:59\n",
              "3  2014-10-01  11:59:59  75.6756  glucose_07.csv 2014-10-01 11:59:59\n",
              "4  2014-10-01  12:00:00  97.2972  glucose_07.csv 2014-10-01 12:00:00"
            ]
          },
          "metadata": {
            "tags": []
          },
          "execution_count": 43
        }
      ]
    },
    {
      "cell_type": "code",
      "metadata": {
        "id": "5RIQsheW_cfn"
      },
      "source": [
        "#Guardar el csv completo. Nombre all.csv\n",
        "#dfs.to_csv(r'/content/drive/My Drive/Colab Notebooks/glucose/small_patients.csv', sep = ',', header = True, index=False, encoding='utf-8')"
      ],
      "execution_count": null,
      "outputs": []
    },
    {
      "cell_type": "code",
      "metadata": {
        "colab": {
          "base_uri": "https://localhost:8080/"
        },
        "id": "KOWVvTEg19A_",
        "outputId": "36a446a7-39d3-418b-b715-5b54cd30bdbf"
      },
      "source": [
        "#Dividir el dataframe por valor de id y saber cuantos datos tiene\n",
        "patients = []\n",
        "for i in dfs['id'].unique():\n",
        "  x = dfs[dfs['id'] == i]\n",
        "  print(\"For patient %s the df has shape %s\" %(i, x.shape))\n",
        "  patients.append(x)\n",
        "  "
      ],
      "execution_count": null,
      "outputs": [
        {
          "output_type": "stream",
          "text": [
            "For patient glucose_07.csv the df has shape (1011, 5)\n",
            "For patient glucose_06.csv the df has shape (1298, 5)\n",
            "For patient glucose_05.csv the df has shape (928, 5)\n",
            "For patient glucose_01.csv the df has shape (1438, 5)\n",
            "For patient glucose_04.csv the df has shape (984, 5)\n",
            "For patient glucose_08.csv the df has shape (1175, 5)\n",
            "For patient glucose_02.csv the df has shape (1071, 5)\n",
            "For patient glucose_03.csv the df has shape (185, 5)\n",
            "For patient glucose_09.csv the df has shape (131, 5)\n"
          ],
          "name": "stdout"
        }
      ]
    },
    {
      "cell_type": "code",
      "metadata": {
        "colab": {
          "base_uri": "https://localhost:8080/"
        },
        "id": "aY28vBa95kqQ",
        "outputId": "9a4e204d-5547-4070-bd07-f5a4e410823e"
      },
      "source": [
        "len(patients)"
      ],
      "execution_count": null,
      "outputs": [
        {
          "output_type": "execute_result",
          "data": {
            "text/plain": [
              "9"
            ]
          },
          "metadata": {
            "tags": []
          },
          "execution_count": 35
        }
      ]
    }
  ]
}