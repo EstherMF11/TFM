{
  "nbformat": 4,
  "nbformat_minor": 0,
  "metadata": {
    "kernelspec": {
      "display_name": "Python 3",
      "language": "python",
      "name": "python3"
    },
    "language_info": {
      "codemirror_mode": {
        "name": "ipython",
        "version": 3
      },
      "file_extension": ".py",
      "mimetype": "text/x-python",
      "name": "python",
      "nbconvert_exporter": "python",
      "pygments_lexer": "ipython3",
      "version": "3.8.3"
    },
    "colab": {
      "name": "Copia de Analisis and model.ipynb",
      "provenance": []
    }
  },
  "cells": [
    {
      "cell_type": "code",
      "metadata": {
        "id": "jw-9W0N34c9R",
        "colab": {
          "base_uri": "https://localhost:8080/"
        },
        "outputId": "595c1c2b-3878-4773-aa5d-b9cca2636afa"
      },
      "source": [
        "\n",
        "import pandas as pd\n",
        "import numpy as np\n",
        "from math import sqrt\n",
        "\n",
        "import matplotlib.pyplot as plt\n",
        "%matplotlib inline\n",
        "import seaborn as sns\n",
        "from statsmodels.graphics.tsaplots import plot_acf, plot_pacf\n",
        "\n",
        "\n",
        "import warnings\n",
        "warnings.filterwarnings('ignore')"
      ],
      "execution_count": null,
      "outputs": [
        {
          "output_type": "stream",
          "text": [
            "/usr/local/lib/python3.7/dist-packages/statsmodels/tools/_testing.py:19: FutureWarning: pandas.util.testing is deprecated. Use the functions in the public API at pandas.testing instead.\n",
            "  import pandas.util.testing as tm\n"
          ],
          "name": "stderr"
        }
      ]
    },
    {
      "cell_type": "code",
      "metadata": {
        "id": "7Watr7MZ4c9U"
      },
      "source": [
        "from sklearn.linear_model import LinearRegression, Lasso, Ridge\n",
        "from sklearn.ensemble import RandomForestRegressor\n",
        "#from xgboost import XGBRegressor\n",
        "\n",
        "from sklearn.metrics import mean_squared_error\n",
        "from sklearn.metrics import mean_absolute_error\n",
        "from sklearn.metrics import r2_score\n",
        "#from sklearn.metrics import mean_absolute_percentage_error\n",
        "\n",
        "\n",
        "#from skforecast.ForecasterAutoreg import ForecastAutoreg\n",
        "#from skforecast.ForecasterAutoregMultiOutput import ForecastAutoregMultiOutput\n",
        "#from skforecast.model_election import grid_search_forecaster, time_series_spliter, cv_forecaster, backtesting_forecaster, backtesting_forecasting_intervals"
      ],
      "execution_count": null,
      "outputs": []
    },
    {
      "cell_type": "code",
      "metadata": {
        "colab": {
          "base_uri": "https://localhost:8080/"
        },
        "id": "260kABLH4qSN",
        "outputId": "24de9a5b-b344-4ebc-f29e-bf14430e7081"
      },
      "source": [
        "from google.colab import drive\n",
        "drive.mount('/content/drive')"
      ],
      "execution_count": null,
      "outputs": [
        {
          "output_type": "stream",
          "text": [
            "Mounted at /content/drive\n"
          ],
          "name": "stdout"
        }
      ]
    },
    {
      "cell_type": "code",
      "metadata": {
        "id": "_g8ZZCT14c9W"
      },
      "source": [
        "df = pd.read_csv('/content/drive/My Drive/Colab Notebooks/glucose/all.csv', low_memory=False)\n",
        "df['id'] = df['id'].astype('string')\n",
        "df['datetime'] = pd.to_datetime(df['datetime'])"
      ],
      "execution_count": null,
      "outputs": []
    },
    {
      "cell_type": "code",
      "metadata": {
        "id": "KONYCHc34c9Y",
        "outputId": "db970808-9ba9-4e2b-f4ba-36349413f761"
      },
      "source": [
        "df.head()"
      ],
      "execution_count": null,
      "outputs": [
        {
          "output_type": "execute_result",
          "data": {
            "text/html": [
              "<div>\n",
              "<style scoped>\n",
              "    .dataframe tbody tr th:only-of-type {\n",
              "        vertical-align: middle;\n",
              "    }\n",
              "\n",
              "    .dataframe tbody tr th {\n",
              "        vertical-align: top;\n",
              "    }\n",
              "\n",
              "    .dataframe thead th {\n",
              "        text-align: right;\n",
              "    }\n",
              "</style>\n",
              "<table border=\"1\" class=\"dataframe\">\n",
              "  <thead>\n",
              "    <tr style=\"text-align: right;\">\n",
              "      <th></th>\n",
              "      <th>date</th>\n",
              "      <th>time</th>\n",
              "      <th>glucose</th>\n",
              "      <th>type</th>\n",
              "      <th>comments</th>\n",
              "    </tr>\n",
              "  </thead>\n",
              "  <tbody>\n",
              "    <tr>\n",
              "      <th>0</th>\n",
              "      <td>2014-10-01</td>\n",
              "      <td>19:14:00</td>\n",
              "      <td>10.3</td>\n",
              "      <td>cgm</td>\n",
              "      <td>NaN</td>\n",
              "    </tr>\n",
              "    <tr>\n",
              "      <th>1</th>\n",
              "      <td>2014-10-01</td>\n",
              "      <td>19:19:00</td>\n",
              "      <td>9.9</td>\n",
              "      <td>cgm</td>\n",
              "      <td>NaN</td>\n",
              "    </tr>\n",
              "    <tr>\n",
              "      <th>2</th>\n",
              "      <td>2014-10-01</td>\n",
              "      <td>19:23:00</td>\n",
              "      <td>9.4</td>\n",
              "      <td>manual</td>\n",
              "      <td>NaN</td>\n",
              "    </tr>\n",
              "    <tr>\n",
              "      <th>3</th>\n",
              "      <td>2014-10-01</td>\n",
              "      <td>19:24:00</td>\n",
              "      <td>9.8</td>\n",
              "      <td>cgm</td>\n",
              "      <td>NaN</td>\n",
              "    </tr>\n",
              "    <tr>\n",
              "      <th>4</th>\n",
              "      <td>2014-10-01</td>\n",
              "      <td>19:29:00</td>\n",
              "      <td>9.6</td>\n",
              "      <td>cgm</td>\n",
              "      <td>NaN</td>\n",
              "    </tr>\n",
              "  </tbody>\n",
              "</table>\n",
              "</div>"
            ],
            "text/plain": [
              "         date      time  glucose    type  comments\n",
              "0  2014-10-01  19:14:00     10.3     cgm       NaN\n",
              "1  2014-10-01  19:19:00      9.9     cgm       NaN\n",
              "2  2014-10-01  19:23:00      9.4  manual       NaN\n",
              "3  2014-10-01  19:24:00      9.8     cgm       NaN\n",
              "4  2014-10-01  19:29:00      9.6     cgm       NaN"
            ]
          },
          "metadata": {
            "tags": []
          },
          "execution_count": 4
        }
      ]
    },
    {
      "cell_type": "code",
      "metadata": {
        "id": "PxjjFC8k4c9Z",
        "outputId": "7b8da373-3f91-4da5-fcc7-d001cc96f4ac"
      },
      "source": [
        "#Conversión del formato fecha\n",
        "df['Time'] = df['date'] + ' ' + df['time']\n",
        "df['Time'] = pd.to_datetime(df['Time'], format='%Y-%m-%d %H:%M:%S')\n",
        "df = df.set_index('Time')\n",
        "df = df.asfreq('5min')\n",
        "df = df.sort_index()\n",
        "df.head()"
      ],
      "execution_count": null,
      "outputs": [
        {
          "output_type": "execute_result",
          "data": {
            "text/html": [
              "<div>\n",
              "<style scoped>\n",
              "    .dataframe tbody tr th:only-of-type {\n",
              "        vertical-align: middle;\n",
              "    }\n",
              "\n",
              "    .dataframe tbody tr th {\n",
              "        vertical-align: top;\n",
              "    }\n",
              "\n",
              "    .dataframe thead th {\n",
              "        text-align: right;\n",
              "    }\n",
              "</style>\n",
              "<table border=\"1\" class=\"dataframe\">\n",
              "  <thead>\n",
              "    <tr style=\"text-align: right;\">\n",
              "      <th></th>\n",
              "      <th>date</th>\n",
              "      <th>time</th>\n",
              "      <th>glucose</th>\n",
              "      <th>type</th>\n",
              "      <th>comments</th>\n",
              "    </tr>\n",
              "    <tr>\n",
              "      <th>Time</th>\n",
              "      <th></th>\n",
              "      <th></th>\n",
              "      <th></th>\n",
              "      <th></th>\n",
              "      <th></th>\n",
              "    </tr>\n",
              "  </thead>\n",
              "  <tbody>\n",
              "    <tr>\n",
              "      <th>2014-10-01 19:14:00</th>\n",
              "      <td>2014-10-01</td>\n",
              "      <td>19:14:00</td>\n",
              "      <td>10.3</td>\n",
              "      <td>cgm</td>\n",
              "      <td>NaN</td>\n",
              "    </tr>\n",
              "    <tr>\n",
              "      <th>2014-10-01 19:19:00</th>\n",
              "      <td>2014-10-01</td>\n",
              "      <td>19:19:00</td>\n",
              "      <td>9.9</td>\n",
              "      <td>cgm</td>\n",
              "      <td>NaN</td>\n",
              "    </tr>\n",
              "    <tr>\n",
              "      <th>2014-10-01 19:24:00</th>\n",
              "      <td>2014-10-01</td>\n",
              "      <td>19:24:00</td>\n",
              "      <td>9.8</td>\n",
              "      <td>cgm</td>\n",
              "      <td>NaN</td>\n",
              "    </tr>\n",
              "    <tr>\n",
              "      <th>2014-10-01 19:29:00</th>\n",
              "      <td>2014-10-01</td>\n",
              "      <td>19:29:00</td>\n",
              "      <td>9.6</td>\n",
              "      <td>cgm</td>\n",
              "      <td>NaN</td>\n",
              "    </tr>\n",
              "    <tr>\n",
              "      <th>2014-10-01 19:34:00</th>\n",
              "      <td>2014-10-01</td>\n",
              "      <td>19:34:00</td>\n",
              "      <td>9.4</td>\n",
              "      <td>cgm</td>\n",
              "      <td>NaN</td>\n",
              "    </tr>\n",
              "  </tbody>\n",
              "</table>\n",
              "</div>"
            ],
            "text/plain": [
              "                           date      time  glucose type  comments\n",
              "Time                                                             \n",
              "2014-10-01 19:14:00  2014-10-01  19:14:00     10.3  cgm       NaN\n",
              "2014-10-01 19:19:00  2014-10-01  19:19:00      9.9  cgm       NaN\n",
              "2014-10-01 19:24:00  2014-10-01  19:24:00      9.8  cgm       NaN\n",
              "2014-10-01 19:29:00  2014-10-01  19:29:00      9.6  cgm       NaN\n",
              "2014-10-01 19:34:00  2014-10-01  19:34:00      9.4  cgm       NaN"
            ]
          },
          "metadata": {
            "tags": []
          },
          "execution_count": 5
        }
      ]
    },
    {
      "cell_type": "code",
      "metadata": {
        "id": "bQKlxf2c4c9a"
      },
      "source": [
        "del df['type']\n",
        "del df['comments']"
      ],
      "execution_count": null,
      "outputs": []
    },
    {
      "cell_type": "code",
      "metadata": {
        "id": "K4marK-n4c9b"
      },
      "source": [
        "df.dropna(inplace=True)"
      ],
      "execution_count": null,
      "outputs": []
    },
    {
      "cell_type": "code",
      "metadata": {
        "id": "lYcuNim-4c9c",
        "outputId": "0957724b-0aee-4931-9090-0df1cabcc9c6"
      },
      "source": [
        "df.head()"
      ],
      "execution_count": null,
      "outputs": [
        {
          "output_type": "execute_result",
          "data": {
            "text/html": [
              "<div>\n",
              "<style scoped>\n",
              "    .dataframe tbody tr th:only-of-type {\n",
              "        vertical-align: middle;\n",
              "    }\n",
              "\n",
              "    .dataframe tbody tr th {\n",
              "        vertical-align: top;\n",
              "    }\n",
              "\n",
              "    .dataframe thead th {\n",
              "        text-align: right;\n",
              "    }\n",
              "</style>\n",
              "<table border=\"1\" class=\"dataframe\">\n",
              "  <thead>\n",
              "    <tr style=\"text-align: right;\">\n",
              "      <th></th>\n",
              "      <th>date</th>\n",
              "      <th>time</th>\n",
              "      <th>glucose</th>\n",
              "    </tr>\n",
              "    <tr>\n",
              "      <th>Time</th>\n",
              "      <th></th>\n",
              "      <th></th>\n",
              "      <th></th>\n",
              "    </tr>\n",
              "  </thead>\n",
              "  <tbody>\n",
              "    <tr>\n",
              "      <th>2014-10-01 19:14:00</th>\n",
              "      <td>2014-10-01</td>\n",
              "      <td>19:14:00</td>\n",
              "      <td>10.3</td>\n",
              "    </tr>\n",
              "    <tr>\n",
              "      <th>2014-10-01 19:19:00</th>\n",
              "      <td>2014-10-01</td>\n",
              "      <td>19:19:00</td>\n",
              "      <td>9.9</td>\n",
              "    </tr>\n",
              "    <tr>\n",
              "      <th>2014-10-01 19:24:00</th>\n",
              "      <td>2014-10-01</td>\n",
              "      <td>19:24:00</td>\n",
              "      <td>9.8</td>\n",
              "    </tr>\n",
              "    <tr>\n",
              "      <th>2014-10-01 19:29:00</th>\n",
              "      <td>2014-10-01</td>\n",
              "      <td>19:29:00</td>\n",
              "      <td>9.6</td>\n",
              "    </tr>\n",
              "    <tr>\n",
              "      <th>2014-10-01 19:34:00</th>\n",
              "      <td>2014-10-01</td>\n",
              "      <td>19:34:00</td>\n",
              "      <td>9.4</td>\n",
              "    </tr>\n",
              "  </tbody>\n",
              "</table>\n",
              "</div>"
            ],
            "text/plain": [
              "                           date      time  glucose\n",
              "Time                                              \n",
              "2014-10-01 19:14:00  2014-10-01  19:14:00     10.3\n",
              "2014-10-01 19:19:00  2014-10-01  19:19:00      9.9\n",
              "2014-10-01 19:24:00  2014-10-01  19:24:00      9.8\n",
              "2014-10-01 19:29:00  2014-10-01  19:29:00      9.6\n",
              "2014-10-01 19:34:00  2014-10-01  19:34:00      9.4"
            ]
          },
          "metadata": {
            "tags": []
          },
          "execution_count": 8
        }
      ]
    },
    {
      "cell_type": "code",
      "metadata": {
        "id": "YsjMriV24c9d"
      },
      "source": [
        "#Transformar unidades de la medida de glucosa. mmol/l = 18 mg/dl\n",
        "df['glucose'] = df['glucose']*18"
      ],
      "execution_count": null,
      "outputs": []
    },
    {
      "cell_type": "code",
      "metadata": {
        "id": "cuSsq-mj4c9e",
        "outputId": "fe6f12a7-7364-4df8-9b1d-bd9c9ac5d688"
      },
      "source": [
        "df.isnull().sum()"
      ],
      "execution_count": null,
      "outputs": [
        {
          "output_type": "execute_result",
          "data": {
            "text/plain": [
              "date       0\n",
              "time       0\n",
              "glucose    0\n",
              "dtype: int64"
            ]
          },
          "metadata": {
            "tags": []
          },
          "execution_count": 10
        }
      ]
    },
    {
      "cell_type": "code",
      "metadata": {
        "id": "wVTQpznP4c9f"
      },
      "source": [
        "\n",
        "del df['date']\n",
        "del df['time']"
      ],
      "execution_count": null,
      "outputs": []
    },
    {
      "cell_type": "code",
      "metadata": {
        "id": "hNBubTUh4c9g",
        "outputId": "28563dbf-e81b-46ac-e613-5660acbd40e3"
      },
      "source": [
        "df.reset_index(inplace=True)\n",
        "plt.scatter(x=df.Time, y=df.glucose);"
      ],
      "execution_count": null,
      "outputs": [
        {
          "output_type": "display_data",
          "data": {
            "image/png": "[encoded data removed]",
            "text/plain": [
              "<Figure size 432x288 with 1 Axes>"
            ]
          },
          "metadata": {
            "tags": [],
            "needs_background": "light"
          }
        }
      ]
    },
    {
      "cell_type": "code",
      "metadata": {
        "id": "TeSStmXA4c9g",
        "outputId": "5f6a2b60-231d-45b5-ee61-e5f6dd0aa734"
      },
      "source": [
        "df.tail()"
      ],
      "execution_count": null,
      "outputs": [
        {
          "output_type": "execute_result",
          "data": {
            "text/html": [
              "<div>\n",
              "<style scoped>\n",
              "    .dataframe tbody tr th:only-of-type {\n",
              "        vertical-align: middle;\n",
              "    }\n",
              "\n",
              "    .dataframe tbody tr th {\n",
              "        vertical-align: top;\n",
              "    }\n",
              "\n",
              "    .dataframe thead th {\n",
              "        text-align: right;\n",
              "    }\n",
              "</style>\n",
              "<table border=\"1\" class=\"dataframe\">\n",
              "  <thead>\n",
              "    <tr style=\"text-align: right;\">\n",
              "      <th></th>\n",
              "      <th>Time</th>\n",
              "      <th>glucose</th>\n",
              "    </tr>\n",
              "  </thead>\n",
              "  <tbody>\n",
              "    <tr>\n",
              "      <th>422</th>\n",
              "      <td>2014-10-03 06:24:00</td>\n",
              "      <td>41.4</td>\n",
              "    </tr>\n",
              "    <tr>\n",
              "      <th>423</th>\n",
              "      <td>2014-10-03 06:29:00</td>\n",
              "      <td>39.6</td>\n",
              "    </tr>\n",
              "    <tr>\n",
              "      <th>424</th>\n",
              "      <td>2014-10-03 12:34:00</td>\n",
              "      <td>158.4</td>\n",
              "    </tr>\n",
              "    <tr>\n",
              "      <th>425</th>\n",
              "      <td>2014-10-03 21:24:00</td>\n",
              "      <td>336.6</td>\n",
              "    </tr>\n",
              "    <tr>\n",
              "      <th>426</th>\n",
              "      <td>2014-10-03 22:24:00</td>\n",
              "      <td>300.6</td>\n",
              "    </tr>\n",
              "  </tbody>\n",
              "</table>\n",
              "</div>"
            ],
            "text/plain": [
              "                   Time  glucose\n",
              "422 2014-10-03 06:24:00     41.4\n",
              "423 2014-10-03 06:29:00     39.6\n",
              "424 2014-10-03 12:34:00    158.4\n",
              "425 2014-10-03 21:24:00    336.6\n",
              "426 2014-10-03 22:24:00    300.6"
            ]
          },
          "metadata": {
            "tags": []
          },
          "execution_count": 13
        }
      ]
    },
    {
      "cell_type": "code",
      "metadata": {
        "id": "_Cz25GRG4c9h",
        "outputId": "1b8ec330-afa9-47e7-92b2-ea142befab54"
      },
      "source": [
        "print(df.Time.min())\n",
        "print(df.Time.max())"
      ],
      "execution_count": null,
      "outputs": [
        {
          "output_type": "stream",
          "text": [
            "2014-10-01 19:14:00\n",
            "2014-10-03 22:24:00\n"
          ],
          "name": "stdout"
        }
      ]
    },
    {
      "cell_type": "code",
      "metadata": {
        "id": "pITxr8Jn4c9i"
      },
      "source": [
        "#Los tres últimos puntos no siguen la serie temporal. Los eliminamos\n",
        "df = df[:-3]"
      ],
      "execution_count": null,
      "outputs": []
    },
    {
      "cell_type": "code",
      "metadata": {
        "id": "k1O4stOS4c9j",
        "outputId": "7e16413c-7094-4037-e650-b967bc404241"
      },
      "source": [
        "plt.scatter(x=df.Time, y=df.glucose);"
      ],
      "execution_count": null,
      "outputs": [
        {
          "output_type": "display_data",
          "data": {
            "image/png": "[encoded data removed]",
            "text/plain": [
              "<Figure size 432x288 with 1 Axes>"
            ]
          },
          "metadata": {
            "tags": [],
            "needs_background": "light"
          }
        }
      ]
    },
    {
      "cell_type": "code",
      "metadata": {
        "id": "ewW9wlpF4c9j"
      },
      "source": [
        "df['Time'] = pd.to_datetime(df['Time'], format='%Y-%m-%d %H:%M:%S')\n",
        "df = df.set_index('Time')\n",
        "df = df.asfreq('5min')\n",
        "df = df.sort_index()"
      ],
      "execution_count": null,
      "outputs": []
    },
    {
      "cell_type": "code",
      "metadata": {
        "id": "ibDfxaMv4c9k",
        "outputId": "33d3f6b1-9c3c-42c7-c313-8dadca42f198"
      },
      "source": [
        "#Verificar que un índice temporal está completo\n",
        "(df.index == pd.date_range(start= df.index.min(),\n",
        "                          end = df.index.max(),\n",
        "                          freq = df.index.freq)).all()"
      ],
      "execution_count": null,
      "outputs": [
        {
          "output_type": "execute_result",
          "data": {
            "text/plain": [
              "True"
            ]
          },
          "metadata": {
            "tags": []
          },
          "execution_count": 18
        }
      ]
    },
    {
      "cell_type": "code",
      "metadata": {
        "id": "vltOzNhe4c9l",
        "outputId": "3a20d6c0-2cc1-4328-a570-f748138f5830"
      },
      "source": [
        "print(df.index.min())\n",
        "print(df.index.max())"
      ],
      "execution_count": null,
      "outputs": [
        {
          "output_type": "stream",
          "text": [
            "2014-10-01 19:14:00\n",
            "2014-10-03 06:29:00\n"
          ],
          "name": "stdout"
        }
      ]
    },
    {
      "cell_type": "code",
      "metadata": {
        "id": "Y2diTsRN4c9l",
        "outputId": "53464afe-9ff2-4013-8380-951801f4de39"
      },
      "source": [
        "len(df)"
      ],
      "execution_count": null,
      "outputs": [
        {
          "output_type": "execute_result",
          "data": {
            "text/plain": [
              "424"
            ]
          },
          "metadata": {
            "tags": []
          },
          "execution_count": 20
        }
      ]
    },
    {
      "cell_type": "code",
      "metadata": {
        "id": "Yc8Ju_5T4c9m",
        "outputId": "6551f501-3f19-4677-98f0-d6d188029871"
      },
      "source": [
        "df.head()"
      ],
      "execution_count": null,
      "outputs": [
        {
          "output_type": "execute_result",
          "data": {
            "text/html": [
              "<div>\n",
              "<style scoped>\n",
              "    .dataframe tbody tr th:only-of-type {\n",
              "        vertical-align: middle;\n",
              "    }\n",
              "\n",
              "    .dataframe tbody tr th {\n",
              "        vertical-align: top;\n",
              "    }\n",
              "\n",
              "    .dataframe thead th {\n",
              "        text-align: right;\n",
              "    }\n",
              "</style>\n",
              "<table border=\"1\" class=\"dataframe\">\n",
              "  <thead>\n",
              "    <tr style=\"text-align: right;\">\n",
              "      <th></th>\n",
              "      <th>glucose</th>\n",
              "    </tr>\n",
              "    <tr>\n",
              "      <th>Time</th>\n",
              "      <th></th>\n",
              "    </tr>\n",
              "  </thead>\n",
              "  <tbody>\n",
              "    <tr>\n",
              "      <th>2014-10-01 19:14:00</th>\n",
              "      <td>185.4</td>\n",
              "    </tr>\n",
              "    <tr>\n",
              "      <th>2014-10-01 19:19:00</th>\n",
              "      <td>178.2</td>\n",
              "    </tr>\n",
              "    <tr>\n",
              "      <th>2014-10-01 19:24:00</th>\n",
              "      <td>176.4</td>\n",
              "    </tr>\n",
              "    <tr>\n",
              "      <th>2014-10-01 19:29:00</th>\n",
              "      <td>172.8</td>\n",
              "    </tr>\n",
              "    <tr>\n",
              "      <th>2014-10-01 19:34:00</th>\n",
              "      <td>169.2</td>\n",
              "    </tr>\n",
              "  </tbody>\n",
              "</table>\n",
              "</div>"
            ],
            "text/plain": [
              "                     glucose\n",
              "Time                        \n",
              "2014-10-01 19:14:00    185.4\n",
              "2014-10-01 19:19:00    178.2\n",
              "2014-10-01 19:24:00    176.4\n",
              "2014-10-01 19:29:00    172.8\n",
              "2014-10-01 19:34:00    169.2"
            ]
          },
          "metadata": {
            "tags": []
          },
          "execution_count": 21
        }
      ]
    },
    {
      "cell_type": "code",
      "metadata": {
        "id": "R6nfUO6S4c9n",
        "outputId": "97363fe4-6f5b-4afc-d7f6-adc73b55ed9d"
      },
      "source": [
        "df[df.index < '2014-10-03 03:29:00']"
      ],
      "execution_count": null,
      "outputs": [
        {
          "output_type": "execute_result",
          "data": {
            "text/html": [
              "<div>\n",
              "<style scoped>\n",
              "    .dataframe tbody tr th:only-of-type {\n",
              "        vertical-align: middle;\n",
              "    }\n",
              "\n",
              "    .dataframe tbody tr th {\n",
              "        vertical-align: top;\n",
              "    }\n",
              "\n",
              "    .dataframe thead th {\n",
              "        text-align: right;\n",
              "    }\n",
              "</style>\n",
              "<table border=\"1\" class=\"dataframe\">\n",
              "  <thead>\n",
              "    <tr style=\"text-align: right;\">\n",
              "      <th></th>\n",
              "      <th>glucose</th>\n",
              "    </tr>\n",
              "    <tr>\n",
              "      <th>Time</th>\n",
              "      <th></th>\n",
              "    </tr>\n",
              "  </thead>\n",
              "  <tbody>\n",
              "    <tr>\n",
              "      <th>2014-10-01 19:14:00</th>\n",
              "      <td>185.4</td>\n",
              "    </tr>\n",
              "    <tr>\n",
              "      <th>2014-10-01 19:19:00</th>\n",
              "      <td>178.2</td>\n",
              "    </tr>\n",
              "    <tr>\n",
              "      <th>2014-10-01 19:24:00</th>\n",
              "      <td>176.4</td>\n",
              "    </tr>\n",
              "    <tr>\n",
              "      <th>2014-10-01 19:29:00</th>\n",
              "      <td>172.8</td>\n",
              "    </tr>\n",
              "    <tr>\n",
              "      <th>2014-10-01 19:34:00</th>\n",
              "      <td>169.2</td>\n",
              "    </tr>\n",
              "    <tr>\n",
              "      <th>...</th>\n",
              "      <td>...</td>\n",
              "    </tr>\n",
              "    <tr>\n",
              "      <th>2014-10-03 03:04:00</th>\n",
              "      <td>106.2</td>\n",
              "    </tr>\n",
              "    <tr>\n",
              "      <th>2014-10-03 03:09:00</th>\n",
              "      <td>100.8</td>\n",
              "    </tr>\n",
              "    <tr>\n",
              "      <th>2014-10-03 03:14:00</th>\n",
              "      <td>95.4</td>\n",
              "    </tr>\n",
              "    <tr>\n",
              "      <th>2014-10-03 03:19:00</th>\n",
              "      <td>91.8</td>\n",
              "    </tr>\n",
              "    <tr>\n",
              "      <th>2014-10-03 03:24:00</th>\n",
              "      <td>86.4</td>\n",
              "    </tr>\n",
              "  </tbody>\n",
              "</table>\n",
              "<p>387 rows × 1 columns</p>\n",
              "</div>"
            ],
            "text/plain": [
              "                     glucose\n",
              "Time                        \n",
              "2014-10-01 19:14:00    185.4\n",
              "2014-10-01 19:19:00    178.2\n",
              "2014-10-01 19:24:00    176.4\n",
              "2014-10-01 19:29:00    172.8\n",
              "2014-10-01 19:34:00    169.2\n",
              "...                      ...\n",
              "2014-10-03 03:04:00    106.2\n",
              "2014-10-03 03:09:00    100.8\n",
              "2014-10-03 03:14:00     95.4\n",
              "2014-10-03 03:19:00     91.8\n",
              "2014-10-03 03:24:00     86.4\n",
              "\n",
              "[387 rows x 1 columns]"
            ]
          },
          "metadata": {
            "tags": []
          },
          "execution_count": 22
        }
      ]
    },
    {
      "cell_type": "code",
      "metadata": {
        "id": "fzMQKizA4c9n",
        "outputId": "775ef0b6-6cc5-4169-c38e-561e7e01be7c"
      },
      "source": [
        "datos_train = df[df.index < '2014-10-03 03:29:00']\n",
        "datos_test = df[df.index >= '2014-10-03 03:29:00']\n",
        "\n",
        "print(f\"Fechas train: {datos_train.index.min()} --- {datos_train.index.max()}\")\n",
        "print(f\"Fechas test: {datos_test.index.min()} --- {datos_test.index.max()}\")"
      ],
      "execution_count": null,
      "outputs": [
        {
          "output_type": "stream",
          "text": [
            "Fechas train: 2014-10-01 19:14:00 --- 2014-10-03 03:24:00\n",
            "Fechas test: 2014-10-03 03:29:00 --- 2014-10-03 06:29:00\n"
          ],
          "name": "stdout"
        }
      ]
    },
    {
      "cell_type": "code",
      "metadata": {
        "id": "tg_tkUAU4c9o",
        "outputId": "1393e532-1a77-41fb-b100-c34022f29587"
      },
      "source": [
        "# Gráfico division de nuestro test y train\n",
        "\n",
        "fig, ax = plt.subplots(figsize=(12, 4))\n",
        "datos_train.plot(ax=ax, label='train')\n",
        "datos_test.plot(ax=ax, label='test')\n",
        "ax.legend();"
      ],
      "execution_count": null,
      "outputs": [
        {
          "output_type": "display_data",
          "data": {
            "image/png": "[encoded data removed]",
            "text/plain": [
              "<Figure size 864x288 with 1 Axes>"
            ]
          },
          "metadata": {
            "tags": [],
            "needs_background": "light"
          }
        }
      ]
    },
    {
      "cell_type": "code",
      "metadata": {
        "id": "KFB3uVqp4c9p",
        "outputId": "cd48ecbf-888f-42fb-b661-4b40ec8a0694"
      },
      "source": [
        "# Grafico autocorrelacion\n",
        "\n",
        "plot_pacf(df, lags=12, zero=False)\n",
        "plt.plot();"
      ],
      "execution_count": null,
      "outputs": [
        {
          "output_type": "display_data",
          "data": {
            "image/png": "[encoded data removed]",
            "text/plain": [
              "<Figure size 432x288 with 1 Axes>"
            ]
          },
          "metadata": {
            "tags": [],
            "needs_background": "light"
          }
        }
      ]
    },
    {
      "cell_type": "code",
      "metadata": {
        "id": "dTeCj4MM4c9p",
        "outputId": "f3fb6bd7-5e8a-4a45-a788-1db76c7e0549"
      },
      "source": [
        "sns.distplot(df['glucose'])"
      ],
      "execution_count": null,
      "outputs": [
        {
          "output_type": "execute_result",
          "data": {
            "text/plain": [
              "<matplotlib.axes._subplots.AxesSubplot at 0x1f35070ea30>"
            ]
          },
          "metadata": {
            "tags": []
          },
          "execution_count": 26
        },
        {
          "output_type": "display_data",
          "data": {
            "image/png": "[encoded data removed]",
            "text/plain": [
              "<Figure size 432x288 with 1 Axes>"
            ]
          },
          "metadata": {
            "tags": [],
            "needs_background": "light"
          }
        }
      ]
    },
    {
      "cell_type": "code",
      "metadata": {
        "id": "KBlaj_e24c9q",
        "outputId": "dad972ad-167e-45b7-bde1-1f01f53191cd"
      },
      "source": [
        "df.reset_index(inplace=True)\n",
        "\n",
        "df['lag2'] = df['glucose'].shift(2)\n",
        "df['lag3'] = df['glucose'].shift(3)\n",
        "\n",
        "df.dropna(inplace=True)\n",
        "df.head()\n"
      ],
      "execution_count": null,
      "outputs": [
        {
          "output_type": "execute_result",
          "data": {
            "text/html": [
              "<div>\n",
              "<style scoped>\n",
              "    .dataframe tbody tr th:only-of-type {\n",
              "        vertical-align: middle;\n",
              "    }\n",
              "\n",
              "    .dataframe tbody tr th {\n",
              "        vertical-align: top;\n",
              "    }\n",
              "\n",
              "    .dataframe thead th {\n",
              "        text-align: right;\n",
              "    }\n",
              "</style>\n",
              "<table border=\"1\" class=\"dataframe\">\n",
              "  <thead>\n",
              "    <tr style=\"text-align: right;\">\n",
              "      <th></th>\n",
              "      <th>Time</th>\n",
              "      <th>glucose</th>\n",
              "      <th>lag2</th>\n",
              "      <th>lag3</th>\n",
              "    </tr>\n",
              "  </thead>\n",
              "  <tbody>\n",
              "    <tr>\n",
              "      <th>3</th>\n",
              "      <td>2014-10-01 19:29:00</td>\n",
              "      <td>172.8</td>\n",
              "      <td>178.2</td>\n",
              "      <td>185.4</td>\n",
              "    </tr>\n",
              "    <tr>\n",
              "      <th>4</th>\n",
              "      <td>2014-10-01 19:34:00</td>\n",
              "      <td>169.2</td>\n",
              "      <td>176.4</td>\n",
              "      <td>178.2</td>\n",
              "    </tr>\n",
              "    <tr>\n",
              "      <th>5</th>\n",
              "      <td>2014-10-01 19:39:00</td>\n",
              "      <td>165.6</td>\n",
              "      <td>172.8</td>\n",
              "      <td>176.4</td>\n",
              "    </tr>\n",
              "    <tr>\n",
              "      <th>6</th>\n",
              "      <td>2014-10-01 19:44:00</td>\n",
              "      <td>160.2</td>\n",
              "      <td>169.2</td>\n",
              "      <td>172.8</td>\n",
              "    </tr>\n",
              "    <tr>\n",
              "      <th>7</th>\n",
              "      <td>2014-10-01 19:49:00</td>\n",
              "      <td>156.6</td>\n",
              "      <td>165.6</td>\n",
              "      <td>169.2</td>\n",
              "    </tr>\n",
              "  </tbody>\n",
              "</table>\n",
              "</div>"
            ],
            "text/plain": [
              "                 Time  glucose   lag2   lag3\n",
              "3 2014-10-01 19:29:00    172.8  178.2  185.4\n",
              "4 2014-10-01 19:34:00    169.2  176.4  178.2\n",
              "5 2014-10-01 19:39:00    165.6  172.8  176.4\n",
              "6 2014-10-01 19:44:00    160.2  169.2  172.8\n",
              "7 2014-10-01 19:49:00    156.6  165.6  169.2"
            ]
          },
          "metadata": {
            "tags": []
          },
          "execution_count": 27
        }
      ]
    },
    {
      "cell_type": "code",
      "metadata": {
        "id": "okrPA4964c9r",
        "outputId": "45484bea-4051-43bf-ec3c-1891ec300380"
      },
      "source": [
        "X.shape"
      ],
      "execution_count": null,
      "outputs": [
        {
          "output_type": "execute_result",
          "data": {
            "text/plain": [
              "(421, 2)"
            ]
          },
          "metadata": {
            "tags": []
          },
          "execution_count": 30
        }
      ]
    },
    {
      "cell_type": "code",
      "metadata": {
        "id": "UYCOWSZe4c9r"
      },
      "source": [
        "from sklearn.model_selection import train_test_split\n",
        "X,y = df[['lag3', 'lag2']], df['glucose']\n",
        "\n",
        "\n",
        "X_train, X_test, y_train, y_test = X[:382], X[382:], y[:382], y[382:]"
      ],
      "execution_count": null,
      "outputs": []
    },
    {
      "cell_type": "code",
      "metadata": {
        "id": "XNcVGLCU4c9s"
      },
      "source": [
        "from sklearn.preprocessing import StandardScaler\n",
        "scaler = StandardScaler()\n",
        "Scaled_train = scaler.fit_transform(X_train)\n",
        "\n",
        "Scaled_test = scaler.transform(X_test)"
      ],
      "execution_count": null,
      "outputs": []
    },
    {
      "cell_type": "code",
      "metadata": {
        "id": "t00IQWfz4c9s",
        "outputId": "542db4f7-73c6-4c68-b75e-789dc2e1fa78"
      },
      "source": [
        "modelo = LinearRegression()\n",
        "modelo.fit(Scaled_train, y_train)"
      ],
      "execution_count": null,
      "outputs": [
        {
          "output_type": "execute_result",
          "data": {
            "text/plain": [
              "LinearRegression()"
            ]
          },
          "metadata": {
            "tags": []
          },
          "execution_count": 36
        }
      ]
    },
    {
      "cell_type": "code",
      "metadata": {
        "id": "yCQ0Dy7q4c9t"
      },
      "source": [
        "predictions_rl = modelo.predict(Scaled_test)"
      ],
      "execution_count": null,
      "outputs": []
    },
    {
      "cell_type": "code",
      "metadata": {
        "id": "C1rtFWy84c9t",
        "outputId": "204628ac-f4ac-4eaa-dbd6-58716708d82f"
      },
      "source": [
        "results = pd.DataFrame(y_test)\n",
        "results['predictions_rl'] = predictions_rl\n",
        "rmse_rl = mean_squared_error(y_test, predictions_rl, squared=False)\n",
        "results['rmse_rl'] = rmse_rl\n",
        "r2_rl = r2_score(y_test, predictions_rl)\n",
        "results['r2_rl'] = r2_rl\n",
        "results.head()"
      ],
      "execution_count": null,
      "outputs": [
        {
          "output_type": "execute_result",
          "data": {
            "text/html": [
              "<div>\n",
              "<style scoped>\n",
              "    .dataframe tbody tr th:only-of-type {\n",
              "        vertical-align: middle;\n",
              "    }\n",
              "\n",
              "    .dataframe tbody tr th {\n",
              "        vertical-align: top;\n",
              "    }\n",
              "\n",
              "    .dataframe thead th {\n",
              "        text-align: right;\n",
              "    }\n",
              "</style>\n",
              "<table border=\"1\" class=\"dataframe\">\n",
              "  <thead>\n",
              "    <tr style=\"text-align: right;\">\n",
              "      <th></th>\n",
              "      <th>glucose</th>\n",
              "      <th>predictions_rl</th>\n",
              "      <th>rmse_rl</th>\n",
              "      <th>r2_rl</th>\n",
              "    </tr>\n",
              "  </thead>\n",
              "  <tbody>\n",
              "    <tr>\n",
              "      <th>385</th>\n",
              "      <td>91.8</td>\n",
              "      <td>92.582533</td>\n",
              "      <td>2.807243</td>\n",
              "      <td>0.961339</td>\n",
              "    </tr>\n",
              "    <tr>\n",
              "      <th>386</th>\n",
              "      <td>86.4</td>\n",
              "      <td>87.266599</td>\n",
              "      <td>2.807243</td>\n",
              "      <td>0.961339</td>\n",
              "    </tr>\n",
              "    <tr>\n",
              "      <th>387</th>\n",
              "      <td>82.8</td>\n",
              "      <td>86.931517</td>\n",
              "      <td>2.807243</td>\n",
              "      <td>0.961339</td>\n",
              "    </tr>\n",
              "    <tr>\n",
              "      <th>388</th>\n",
              "      <td>79.2</td>\n",
              "      <td>78.406709</td>\n",
              "      <td>2.807243</td>\n",
              "      <td>0.961339</td>\n",
              "    </tr>\n",
              "    <tr>\n",
              "      <th>389</th>\n",
              "      <td>75.6</td>\n",
              "      <td>78.071626</td>\n",
              "      <td>2.807243</td>\n",
              "      <td>0.961339</td>\n",
              "    </tr>\n",
              "  </tbody>\n",
              "</table>\n",
              "</div>"
            ],
            "text/plain": [
              "     glucose  predictions_rl   rmse_rl     r2_rl\n",
              "385     91.8       92.582533  2.807243  0.961339\n",
              "386     86.4       87.266599  2.807243  0.961339\n",
              "387     82.8       86.931517  2.807243  0.961339\n",
              "388     79.2       78.406709  2.807243  0.961339\n",
              "389     75.6       78.071626  2.807243  0.961339"
            ]
          },
          "metadata": {
            "tags": []
          },
          "execution_count": 39
        }
      ]
    },
    {
      "cell_type": "code",
      "metadata": {
        "id": "wvVL3t4J4c9u",
        "outputId": "11ed3c2e-b1b6-4d46-bf45-76df8131f737"
      },
      "source": [
        "plt.scatter(results.glucose, results.predictions_rl, alpha=.4)"
      ],
      "execution_count": null,
      "outputs": [
        {
          "output_type": "execute_result",
          "data": {
            "text/plain": [
              "<matplotlib.collections.PathCollection at 0x1f35063a2e0>"
            ]
          },
          "metadata": {
            "tags": []
          },
          "execution_count": 40
        },
        {
          "output_type": "display_data",
          "data": {
            "image/png": "[encoded data removed]",
            "text/plain": [
              "<Figure size 432x288 with 1 Axes>"
            ]
          },
          "metadata": {
            "tags": [],
            "needs_background": "light"
          }
        }
      ]
    },
    {
      "cell_type": "code",
      "metadata": {
        "id": "UREbqxxr4c9v",
        "outputId": "90263018-5985-43d7-efdc-7318eef162d6"
      },
      "source": [
        "reg = RandomForestRegressor(max_depth=10, random_state=0)\n",
        "reg.fit(Scaled_train,y_train)"
      ],
      "execution_count": null,
      "outputs": [
        {
          "output_type": "execute_result",
          "data": {
            "text/plain": [
              "RandomForestRegressor(max_depth=10, random_state=0)"
            ]
          },
          "metadata": {
            "tags": []
          },
          "execution_count": 41
        }
      ]
    },
    {
      "cell_type": "code",
      "metadata": {
        "id": "NfemXYtZ4c9v"
      },
      "source": [
        "predictions_rf = reg.predict(Scaled_test)"
      ],
      "execution_count": null,
      "outputs": []
    },
    {
      "cell_type": "code",
      "metadata": {
        "id": "kXA3Qz8U4c9w",
        "outputId": "d748a672-9c85-4837-df3e-3c63da5f2ee5"
      },
      "source": [
        "results['predictions_rf'] = predictions_rf\n",
        "rmse_rf = mean_squared_error(y_test, predictions_rf, squared=False)\n",
        "results['rmse_rf'] = rmse_rf\n",
        "r2_rf = r2_score(y_test, predictions_rf)\n",
        "results['r2_rf'] = r2_rf\n",
        "results.head()"
      ],
      "execution_count": null,
      "outputs": [
        {
          "output_type": "execute_result",
          "data": {
            "text/html": [
              "<div>\n",
              "<style scoped>\n",
              "    .dataframe tbody tr th:only-of-type {\n",
              "        vertical-align: middle;\n",
              "    }\n",
              "\n",
              "    .dataframe tbody tr th {\n",
              "        vertical-align: top;\n",
              "    }\n",
              "\n",
              "    .dataframe thead th {\n",
              "        text-align: right;\n",
              "    }\n",
              "</style>\n",
              "<table border=\"1\" class=\"dataframe\">\n",
              "  <thead>\n",
              "    <tr style=\"text-align: right;\">\n",
              "      <th></th>\n",
              "      <th>glucose</th>\n",
              "      <th>predictions_rl</th>\n",
              "      <th>rmse_rl</th>\n",
              "      <th>r2_rl</th>\n",
              "      <th>predictions_rf</th>\n",
              "      <th>rmse_rf</th>\n",
              "      <th>r2_rf</th>\n",
              "    </tr>\n",
              "  </thead>\n",
              "  <tbody>\n",
              "    <tr>\n",
              "      <th>385</th>\n",
              "      <td>91.8</td>\n",
              "      <td>92.582533</td>\n",
              "      <td>2.807243</td>\n",
              "      <td>0.961339</td>\n",
              "      <td>97.749</td>\n",
              "      <td>46.451011</td>\n",
              "      <td>-9.585418</td>\n",
              "    </tr>\n",
              "    <tr>\n",
              "      <th>386</th>\n",
              "      <td>86.4</td>\n",
              "      <td>87.266599</td>\n",
              "      <td>2.807243</td>\n",
              "      <td>0.961339</td>\n",
              "      <td>93.132</td>\n",
              "      <td>46.451011</td>\n",
              "      <td>-9.585418</td>\n",
              "    </tr>\n",
              "    <tr>\n",
              "      <th>387</th>\n",
              "      <td>82.8</td>\n",
              "      <td>86.931517</td>\n",
              "      <td>2.807243</td>\n",
              "      <td>0.961339</td>\n",
              "      <td>93.168</td>\n",
              "      <td>46.451011</td>\n",
              "      <td>-9.585418</td>\n",
              "    </tr>\n",
              "    <tr>\n",
              "      <th>388</th>\n",
              "      <td>79.2</td>\n",
              "      <td>78.406709</td>\n",
              "      <td>2.807243</td>\n",
              "      <td>0.961339</td>\n",
              "      <td>98.082</td>\n",
              "      <td>46.451011</td>\n",
              "      <td>-9.585418</td>\n",
              "    </tr>\n",
              "    <tr>\n",
              "      <th>389</th>\n",
              "      <td>75.6</td>\n",
              "      <td>78.071626</td>\n",
              "      <td>2.807243</td>\n",
              "      <td>0.961339</td>\n",
              "      <td>98.082</td>\n",
              "      <td>46.451011</td>\n",
              "      <td>-9.585418</td>\n",
              "    </tr>\n",
              "  </tbody>\n",
              "</table>\n",
              "</div>"
            ],
            "text/plain": [
              "     glucose  predictions_rl   rmse_rl     r2_rl  predictions_rf    rmse_rf  \\\n",
              "385     91.8       92.582533  2.807243  0.961339          97.749  46.451011   \n",
              "386     86.4       87.266599  2.807243  0.961339          93.132  46.451011   \n",
              "387     82.8       86.931517  2.807243  0.961339          93.168  46.451011   \n",
              "388     79.2       78.406709  2.807243  0.961339          98.082  46.451011   \n",
              "389     75.6       78.071626  2.807243  0.961339          98.082  46.451011   \n",
              "\n",
              "        r2_rf  \n",
              "385 -9.585418  \n",
              "386 -9.585418  \n",
              "387 -9.585418  \n",
              "388 -9.585418  \n",
              "389 -9.585418  "
            ]
          },
          "metadata": {
            "tags": []
          },
          "execution_count": 43
        }
      ]
    },
    {
      "cell_type": "code",
      "metadata": {
        "id": "7pnQlIVC4c9w",
        "outputId": "3236a518-a660-4232-a791-af988a968f62"
      },
      "source": [
        "plt.scatter(results.glucose, results.predictions_rf, alpha=.4)"
      ],
      "execution_count": null,
      "outputs": [
        {
          "output_type": "execute_result",
          "data": {
            "text/plain": [
              "<matplotlib.collections.PathCollection at 0x1f350510e20>"
            ]
          },
          "metadata": {
            "tags": []
          },
          "execution_count": 44
        },
        {
          "output_type": "display_data",
          "data": {
            "image/png": "[encoded data removed]",
            "text/plain": [
              "<Figure size 432x288 with 1 Axes>"
            ]
          },
          "metadata": {
            "tags": [],
            "needs_background": "light"
          }
        }
      ]
    },
    {
      "cell_type": "code",
      "metadata": {
        "id": "g9NJo0LQ4c9x",
        "outputId": "71fd312c-db68-4763-a32e-57a282cb4dd1"
      },
      "source": [
        "df.head()"
      ],
      "execution_count": null,
      "outputs": [
        {
          "output_type": "execute_result",
          "data": {
            "text/html": [
              "<div>\n",
              "<style scoped>\n",
              "    .dataframe tbody tr th:only-of-type {\n",
              "        vertical-align: middle;\n",
              "    }\n",
              "\n",
              "    .dataframe tbody tr th {\n",
              "        vertical-align: top;\n",
              "    }\n",
              "\n",
              "    .dataframe thead th {\n",
              "        text-align: right;\n",
              "    }\n",
              "</style>\n",
              "<table border=\"1\" class=\"dataframe\">\n",
              "  <thead>\n",
              "    <tr style=\"text-align: right;\">\n",
              "      <th></th>\n",
              "      <th>Time</th>\n",
              "      <th>glucose</th>\n",
              "      <th>lag2</th>\n",
              "      <th>lag3</th>\n",
              "    </tr>\n",
              "  </thead>\n",
              "  <tbody>\n",
              "    <tr>\n",
              "      <th>3</th>\n",
              "      <td>2014-10-01 19:29:00</td>\n",
              "      <td>172.8</td>\n",
              "      <td>178.2</td>\n",
              "      <td>185.4</td>\n",
              "    </tr>\n",
              "    <tr>\n",
              "      <th>4</th>\n",
              "      <td>2014-10-01 19:34:00</td>\n",
              "      <td>169.2</td>\n",
              "      <td>176.4</td>\n",
              "      <td>178.2</td>\n",
              "    </tr>\n",
              "    <tr>\n",
              "      <th>5</th>\n",
              "      <td>2014-10-01 19:39:00</td>\n",
              "      <td>165.6</td>\n",
              "      <td>172.8</td>\n",
              "      <td>176.4</td>\n",
              "    </tr>\n",
              "    <tr>\n",
              "      <th>6</th>\n",
              "      <td>2014-10-01 19:44:00</td>\n",
              "      <td>160.2</td>\n",
              "      <td>169.2</td>\n",
              "      <td>172.8</td>\n",
              "    </tr>\n",
              "    <tr>\n",
              "      <th>7</th>\n",
              "      <td>2014-10-01 19:49:00</td>\n",
              "      <td>156.6</td>\n",
              "      <td>165.6</td>\n",
              "      <td>169.2</td>\n",
              "    </tr>\n",
              "  </tbody>\n",
              "</table>\n",
              "</div>"
            ],
            "text/plain": [
              "                 Time  glucose   lag2   lag3\n",
              "3 2014-10-01 19:29:00    172.8  178.2  185.4\n",
              "4 2014-10-01 19:34:00    169.2  176.4  178.2\n",
              "5 2014-10-01 19:39:00    165.6  172.8  176.4\n",
              "6 2014-10-01 19:44:00    160.2  169.2  172.8\n",
              "7 2014-10-01 19:49:00    156.6  165.6  169.2"
            ]
          },
          "metadata": {
            "tags": []
          },
          "execution_count": 45
        }
      ]
    },
    {
      "cell_type": "code",
      "metadata": {
        "id": "2bCkWJvU4c9y",
        "outputId": "4b69e05b-001b-4225-cc42-9a11cc666adf"
      },
      "source": [
        "fig, ax = plt.subplots(figsize=(12, 4))\n",
        "plt.plot(datos_train, label='train')\n",
        "plt.plot(datos_test, label='test')\n",
        "\n",
        "x = df.Time[382:]\n",
        "\n",
        "plt.plot(x, results.predictions_rl, label='predict')\n",
        "ax.legend();"
      ],
      "execution_count": null,
      "outputs": [
        {
          "output_type": "display_data",
          "data": {
            "image/png": "[encoded data removed]",
            "text/plain": [
              "<Figure size 864x288 with 1 Axes>"
            ]
          },
          "metadata": {
            "tags": [],
            "needs_background": "light"
          }
        }
      ]
    },
    {
      "cell_type": "code",
      "metadata": {
        "id": "ewlMmLvW4c9y",
        "outputId": "34254dd9-6c70-4c44-a6bd-b943847672db"
      },
      "source": [
        "fig, ax = plt.subplots(figsize=(12, 4))\n",
        "plt.plot(datos_train, label='train')\n",
        "plt.plot(datos_test, label='test')\n",
        "\n",
        "x = df.Time[382:]\n",
        "\n",
        "plt.plot(x, results.predictions_rf, label='predict')\n",
        "ax.legend();"
      ],
      "execution_count": null,
      "outputs": [
        {
          "output_type": "display_data",
          "data": {
            "image/png": "[encoded data removed]",
            "text/plain": [
              "<Figure size 864x288 with 1 Axes>"
            ]
          },
          "metadata": {
            "tags": [],
            "needs_background": "light"
          }
        }
      ]
    },
    {
      "cell_type": "code",
      "metadata": {
        "id": "TJkrjRFx4c9z"
      },
      "source": [
        ""
      ],
      "execution_count": null,
      "outputs": []
    }
  ]
}