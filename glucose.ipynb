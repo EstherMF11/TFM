{
 "cells": [
  {
   "cell_type": "code",
   "execution_count": 24,
   "metadata": {},
   "outputs": [],
   "source": [
    "import pandas as pd\n",
    "import numpy as np\n",
    "import matplotlib.pyplot as plt\n",
    "import seaborn as sns\n",
    "\n",
    "# Configuración warnings\n",
    "# ==============================================================================\n",
    "import warnings\n",
    "warnings.filterwarnings('ignore')"
   ]
  },
  {
   "cell_type": "code",
   "execution_count": 26,
   "metadata": {},
   "outputs": [
    {
     "name": "stdout",
     "output_type": "stream",
     "text": [
      "Collecting skforecast\n",
      "  Downloading skforecast-0.3.0-py2.py3-none-any.whl (56 kB)\n",
      "\u001b[K     |████████████████████████████████| 56 kB 927 kB/s eta 0:00:01\n",
      "\u001b[?25hCollecting numpy>=1.20.1\n",
      "  Downloading numpy-1.21.4-cp38-cp38-manylinux_2_12_x86_64.manylinux2010_x86_64.whl (15.7 MB)\n",
      "\u001b[K     |████████████████████████████████| 15.7 MB 12.9 MB/s eta 0:00:01\n",
      "\u001b[?25hCollecting pandas>=1.2.2\n",
      "  Downloading pandas-1.3.4-cp38-cp38-manylinux_2_17_x86_64.manylinux2014_x86_64.whl (11.5 MB)\n",
      "\u001b[K     |████████████████████████████████| 11.5 MB 2.9 MB/s eta 0:00:01    |██▎                             | 819 kB 2.9 MB/s eta 0:00:04     |██████████████████████▌         | 8.1 MB 2.9 MB/s eta 0:00:02\n",
      "\u001b[?25hCollecting scikit-learn>=0.24\n",
      "  Downloading scikit_learn-1.0.1-cp38-cp38-manylinux_2_12_x86_64.manylinux2010_x86_64.whl (25.9 MB)\n",
      "\u001b[K     |████████████████████████████████| 25.9 MB 10.7 MB/s eta 0:00:01    |███████▌                        | 6.0 MB 11.3 MB/s eta 0:00:02\n",
      "\u001b[?25hCollecting statsmodels>=0.12.2\n",
      "  Downloading statsmodels-0.13.1-cp38-cp38-manylinux_2_17_x86_64.manylinux2014_x86_64.whl (9.9 MB)\n",
      "\u001b[K     |████████████████████████████████| 9.9 MB 9.3 MB/s eta 0:00:01\n",
      "\u001b[?25hCollecting tqdm>=4.57.0\n",
      "  Downloading tqdm-4.62.3-py2.py3-none-any.whl (76 kB)\n",
      "\u001b[K     |████████████████████████████████| 76 kB 4.9 MB/s eta 0:00:011\n",
      "\u001b[?25hRequirement already satisfied: pytz>=2017.3 in /home/dsc/anaconda3/lib/python3.8/site-packages (from pandas>=1.2.2->skforecast) (2020.1)\n",
      "Requirement already satisfied: python-dateutil>=2.7.3 in /home/dsc/anaconda3/lib/python3.8/site-packages (from pandas>=1.2.2->skforecast) (2.8.1)\n",
      "Requirement already satisfied: threadpoolctl>=2.0.0 in /home/dsc/anaconda3/lib/python3.8/site-packages (from scikit-learn>=0.24->skforecast) (2.1.0)\n",
      "Requirement already satisfied: scipy>=1.1.0 in /home/dsc/anaconda3/lib/python3.8/site-packages (from scikit-learn>=0.24->skforecast) (1.5.2)\n",
      "Requirement already satisfied: joblib>=0.11 in /home/dsc/anaconda3/lib/python3.8/site-packages (from scikit-learn>=0.24->skforecast) (0.17.0)\n",
      "Collecting patsy>=0.5.2\n",
      "  Downloading patsy-0.5.2-py2.py3-none-any.whl (233 kB)\n",
      "\u001b[K     |████████████████████████████████| 233 kB 10.8 MB/s eta 0:00:01\n",
      "\u001b[?25hRequirement already satisfied: six>=1.5 in /home/dsc/anaconda3/lib/python3.8/site-packages (from python-dateutil>=2.7.3->pandas>=1.2.2->skforecast) (1.15.0)\n",
      "Installing collected packages: numpy, pandas, scikit-learn, patsy, statsmodels, tqdm, skforecast\n",
      "  Attempting uninstall: numpy\n",
      "    Found existing installation: numpy 1.19.2\n",
      "    Uninstalling numpy-1.19.2:\n",
      "      Successfully uninstalled numpy-1.19.2\n",
      "  Attempting uninstall: pandas\n",
      "    Found existing installation: pandas 1.1.3\n",
      "    Uninstalling pandas-1.1.3:\n",
      "      Successfully uninstalled pandas-1.1.3\n",
      "  Attempting uninstall: scikit-learn\n",
      "    Found existing installation: scikit-learn 0.23.2\n",
      "    Uninstalling scikit-learn-0.23.2:\n",
      "      Successfully uninstalled scikit-learn-0.23.2\n",
      "  Attempting uninstall: patsy\n",
      "    Found existing installation: patsy 0.5.1\n",
      "    Uninstalling patsy-0.5.1:\n",
      "      Successfully uninstalled patsy-0.5.1\n",
      "  Attempting uninstall: statsmodels\n",
      "    Found existing installation: statsmodels 0.12.0\n",
      "    Uninstalling statsmodels-0.12.0:\n",
      "      Successfully uninstalled statsmodels-0.12.0\n",
      "  Attempting uninstall: tqdm\n",
      "    Found existing installation: tqdm 4.50.2\n",
      "    Uninstalling tqdm-4.50.2:\n",
      "      Successfully uninstalled tqdm-4.50.2\n",
      "Successfully installed numpy-1.21.4 pandas-1.3.4 patsy-0.5.2 scikit-learn-1.0.1 skforecast-0.3.0 statsmodels-0.13.1 tqdm-4.62.3\n"
     ]
    }
   ],
   "source": [
    "!pip install skforecast"
   ]
  },
  {
   "cell_type": "code",
   "execution_count": 58,
   "metadata": {},
   "outputs": [],
   "source": [
    "# Modelado y Forecasting\n",
    "# ==============================================================================\n",
    "from sklearn.linear_model import LinearRegression\n",
    "from sklearn.linear_model import Lasso\n",
    "from sklearn.ensemble import RandomForestRegressor\n",
    "from sklearn.metrics import mean_squared_error\n",
    "from sklearn.metrics import mean_absolute_error\n",
    "from sklearn.tree import DecisionTreeRegressor\n",
    "from sklearn.model_selection import GridSearchCV,RandomizedSearchCV\n",
    "#from skforecast.ForecasterAutoregCustom import ForecasterAutoregCustom\n",
    "#from skforecast.ForecasterAutoregMultiOutput import ForecasterAutoregMultiOutput\n",
    "#from skforecast.model_selection import grid_search_forecaster\n",
    "#from skforecast.model_selection import backtesting_forecaster\n",
    "#from skforecast.model_selection import backtesting_forecaster_intervals\n",
    "\n",
    "#from joblib import dump, load"
   ]
  },
  {
   "cell_type": "code",
   "execution_count": 2,
   "metadata": {},
   "outputs": [
    {
     "data": {
      "text/html": [
       "<div>\n",
       "<style scoped>\n",
       "    .dataframe tbody tr th:only-of-type {\n",
       "        vertical-align: middle;\n",
       "    }\n",
       "\n",
       "    .dataframe tbody tr th {\n",
       "        vertical-align: top;\n",
       "    }\n",
       "\n",
       "    .dataframe thead th {\n",
       "        text-align: right;\n",
       "    }\n",
       "</style>\n",
       "<table border=\"1\" class=\"dataframe\">\n",
       "  <thead>\n",
       "    <tr style=\"text-align: right;\">\n",
       "      <th></th>\n",
       "      <th>date</th>\n",
       "      <th>time</th>\n",
       "      <th>glucose</th>\n",
       "      <th>type</th>\n",
       "      <th>comments</th>\n",
       "    </tr>\n",
       "  </thead>\n",
       "  <tbody>\n",
       "    <tr>\n",
       "      <th>0</th>\n",
       "      <td>2014-10-01</td>\n",
       "      <td>19:14:00</td>\n",
       "      <td>10.3</td>\n",
       "      <td>cgm</td>\n",
       "      <td>NaN</td>\n",
       "    </tr>\n",
       "    <tr>\n",
       "      <th>1</th>\n",
       "      <td>2014-10-01</td>\n",
       "      <td>19:19:00</td>\n",
       "      <td>9.9</td>\n",
       "      <td>cgm</td>\n",
       "      <td>NaN</td>\n",
       "    </tr>\n",
       "    <tr>\n",
       "      <th>2</th>\n",
       "      <td>2014-10-01</td>\n",
       "      <td>19:23:00</td>\n",
       "      <td>9.4</td>\n",
       "      <td>manual</td>\n",
       "      <td>NaN</td>\n",
       "    </tr>\n",
       "    <tr>\n",
       "      <th>3</th>\n",
       "      <td>2014-10-01</td>\n",
       "      <td>19:24:00</td>\n",
       "      <td>9.8</td>\n",
       "      <td>cgm</td>\n",
       "      <td>NaN</td>\n",
       "    </tr>\n",
       "    <tr>\n",
       "      <th>4</th>\n",
       "      <td>2014-10-01</td>\n",
       "      <td>19:29:00</td>\n",
       "      <td>9.6</td>\n",
       "      <td>cgm</td>\n",
       "      <td>NaN</td>\n",
       "    </tr>\n",
       "    <tr>\n",
       "      <th>...</th>\n",
       "      <td>...</td>\n",
       "      <td>...</td>\n",
       "      <td>...</td>\n",
       "      <td>...</td>\n",
       "      <td>...</td>\n",
       "    </tr>\n",
       "    <tr>\n",
       "      <th>1433</th>\n",
       "      <td>2014-10-06</td>\n",
       "      <td>16:34:02</td>\n",
       "      <td>12.3</td>\n",
       "      <td>cgm</td>\n",
       "      <td>NaN</td>\n",
       "    </tr>\n",
       "    <tr>\n",
       "      <th>1434</th>\n",
       "      <td>2014-10-06</td>\n",
       "      <td>16:39:02</td>\n",
       "      <td>12.5</td>\n",
       "      <td>cgm</td>\n",
       "      <td>NaN</td>\n",
       "    </tr>\n",
       "    <tr>\n",
       "      <th>1435</th>\n",
       "      <td>2014-10-06</td>\n",
       "      <td>16:44:02</td>\n",
       "      <td>12.5</td>\n",
       "      <td>cgm</td>\n",
       "      <td>NaN</td>\n",
       "    </tr>\n",
       "    <tr>\n",
       "      <th>1436</th>\n",
       "      <td>2014-10-06</td>\n",
       "      <td>16:49:02</td>\n",
       "      <td>12.3</td>\n",
       "      <td>cgm</td>\n",
       "      <td>NaN</td>\n",
       "    </tr>\n",
       "    <tr>\n",
       "      <th>1437</th>\n",
       "      <td>2014-10-06</td>\n",
       "      <td>16:54:02</td>\n",
       "      <td>12.1</td>\n",
       "      <td>cgm</td>\n",
       "      <td>NaN</td>\n",
       "    </tr>\n",
       "  </tbody>\n",
       "</table>\n",
       "<p>1438 rows × 5 columns</p>\n",
       "</div>"
      ],
      "text/plain": [
       "            date      time  glucose    type  comments\n",
       "0     2014-10-01  19:14:00     10.3     cgm       NaN\n",
       "1     2014-10-01  19:19:00      9.9     cgm       NaN\n",
       "2     2014-10-01  19:23:00      9.4  manual       NaN\n",
       "3     2014-10-01  19:24:00      9.8     cgm       NaN\n",
       "4     2014-10-01  19:29:00      9.6     cgm       NaN\n",
       "...          ...       ...      ...     ...       ...\n",
       "1433  2014-10-06  16:34:02     12.3     cgm       NaN\n",
       "1434  2014-10-06  16:39:02     12.5     cgm       NaN\n",
       "1435  2014-10-06  16:44:02     12.5     cgm       NaN\n",
       "1436  2014-10-06  16:49:02     12.3     cgm       NaN\n",
       "1437  2014-10-06  16:54:02     12.1     cgm       NaN\n",
       "\n",
       "[1438 rows x 5 columns]"
      ]
     },
     "execution_count": 2,
     "metadata": {},
     "output_type": "execute_result"
    }
   ],
   "source": [
    "p1 = pd.read_csv(\"data/glucose_01.csv\")\n",
    "p1\n"
   ]
  },
  {
   "cell_type": "code",
   "execution_count": 3,
   "metadata": {},
   "outputs": [
    {
     "data": {
      "text/plain": [
       "(1438, 5)"
      ]
     },
     "execution_count": 3,
     "metadata": {},
     "output_type": "execute_result"
    }
   ],
   "source": [
    "p1.shape"
   ]
  },
  {
   "cell_type": "code",
   "execution_count": 4,
   "metadata": {},
   "outputs": [
    {
     "data": {
      "text/html": [
       "<div>\n",
       "<style scoped>\n",
       "    .dataframe tbody tr th:only-of-type {\n",
       "        vertical-align: middle;\n",
       "    }\n",
       "\n",
       "    .dataframe tbody tr th {\n",
       "        vertical-align: top;\n",
       "    }\n",
       "\n",
       "    .dataframe thead th {\n",
       "        text-align: right;\n",
       "    }\n",
       "</style>\n",
       "<table border=\"1\" class=\"dataframe\">\n",
       "  <thead>\n",
       "    <tr style=\"text-align: right;\">\n",
       "      <th></th>\n",
       "      <th>glucose</th>\n",
       "      <th>comments</th>\n",
       "    </tr>\n",
       "  </thead>\n",
       "  <tbody>\n",
       "    <tr>\n",
       "      <th>count</th>\n",
       "      <td>1438.000000</td>\n",
       "      <td>0.0</td>\n",
       "    </tr>\n",
       "    <tr>\n",
       "      <th>mean</th>\n",
       "      <td>10.194089</td>\n",
       "      <td>NaN</td>\n",
       "    </tr>\n",
       "    <tr>\n",
       "      <th>std</th>\n",
       "      <td>4.869156</td>\n",
       "      <td>NaN</td>\n",
       "    </tr>\n",
       "    <tr>\n",
       "      <th>min</th>\n",
       "      <td>2.200000</td>\n",
       "      <td>NaN</td>\n",
       "    </tr>\n",
       "    <tr>\n",
       "      <th>25%</th>\n",
       "      <td>6.900000</td>\n",
       "      <td>NaN</td>\n",
       "    </tr>\n",
       "    <tr>\n",
       "      <th>50%</th>\n",
       "      <td>9.600000</td>\n",
       "      <td>NaN</td>\n",
       "    </tr>\n",
       "    <tr>\n",
       "      <th>75%</th>\n",
       "      <td>13.000000</td>\n",
       "      <td>NaN</td>\n",
       "    </tr>\n",
       "    <tr>\n",
       "      <th>max</th>\n",
       "      <td>22.200000</td>\n",
       "      <td>NaN</td>\n",
       "    </tr>\n",
       "  </tbody>\n",
       "</table>\n",
       "</div>"
      ],
      "text/plain": [
       "           glucose  comments\n",
       "count  1438.000000       0.0\n",
       "mean     10.194089       NaN\n",
       "std       4.869156       NaN\n",
       "min       2.200000       NaN\n",
       "25%       6.900000       NaN\n",
       "50%       9.600000       NaN\n",
       "75%      13.000000       NaN\n",
       "max      22.200000       NaN"
      ]
     },
     "execution_count": 4,
     "metadata": {},
     "output_type": "execute_result"
    }
   ],
   "source": [
    "p1.describe()"
   ]
  },
  {
   "cell_type": "code",
   "execution_count": 5,
   "metadata": {},
   "outputs": [
    {
     "name": "stdout",
     "output_type": "stream",
     "text": [
      "<class 'pandas.core.frame.DataFrame'>\n",
      "RangeIndex: 1438 entries, 0 to 1437\n",
      "Data columns (total 5 columns):\n",
      " #   Column    Non-Null Count  Dtype  \n",
      "---  ------    --------------  -----  \n",
      " 0   date      1438 non-null   object \n",
      " 1   time      1438 non-null   object \n",
      " 2   glucose   1438 non-null   float64\n",
      " 3   type      1438 non-null   object \n",
      " 4   comments  0 non-null      float64\n",
      "dtypes: float64(2), object(3)\n",
      "memory usage: 56.3+ KB\n"
     ]
    }
   ],
   "source": [
    "p1.info()"
   ]
  },
  {
   "cell_type": "code",
   "execution_count": null,
   "metadata": {},
   "outputs": [],
   "source": [
    "print(p1.isnull().sum())"
   ]
  },
  {
   "cell_type": "code",
   "execution_count": 6,
   "metadata": {},
   "outputs": [
    {
     "data": {
      "text/html": [
       "<div>\n",
       "<style scoped>\n",
       "    .dataframe tbody tr th:only-of-type {\n",
       "        vertical-align: middle;\n",
       "    }\n",
       "\n",
       "    .dataframe tbody tr th {\n",
       "        vertical-align: top;\n",
       "    }\n",
       "\n",
       "    .dataframe thead th {\n",
       "        text-align: right;\n",
       "    }\n",
       "</style>\n",
       "<table border=\"1\" class=\"dataframe\">\n",
       "  <thead>\n",
       "    <tr style=\"text-align: right;\">\n",
       "      <th></th>\n",
       "      <th>date</th>\n",
       "      <th>time</th>\n",
       "      <th>glucose</th>\n",
       "      <th>type</th>\n",
       "      <th>comments</th>\n",
       "      <th>datetime</th>\n",
       "    </tr>\n",
       "  </thead>\n",
       "  <tbody>\n",
       "    <tr>\n",
       "      <th>0</th>\n",
       "      <td>2014-10-01</td>\n",
       "      <td>19:14:00</td>\n",
       "      <td>185.5854</td>\n",
       "      <td>cgm</td>\n",
       "      <td>NaN</td>\n",
       "      <td>2014-10-01 19:14:00</td>\n",
       "    </tr>\n",
       "    <tr>\n",
       "      <th>1</th>\n",
       "      <td>2014-10-01</td>\n",
       "      <td>19:19:00</td>\n",
       "      <td>178.3782</td>\n",
       "      <td>cgm</td>\n",
       "      <td>NaN</td>\n",
       "      <td>2014-10-01 19:19:00</td>\n",
       "    </tr>\n",
       "    <tr>\n",
       "      <th>2</th>\n",
       "      <td>2014-10-01</td>\n",
       "      <td>19:23:00</td>\n",
       "      <td>169.3692</td>\n",
       "      <td>manual</td>\n",
       "      <td>NaN</td>\n",
       "      <td>2014-10-01 19:23:00</td>\n",
       "    </tr>\n",
       "    <tr>\n",
       "      <th>3</th>\n",
       "      <td>2014-10-01</td>\n",
       "      <td>19:24:00</td>\n",
       "      <td>176.5764</td>\n",
       "      <td>cgm</td>\n",
       "      <td>NaN</td>\n",
       "      <td>2014-10-01 19:24:00</td>\n",
       "    </tr>\n",
       "    <tr>\n",
       "      <th>4</th>\n",
       "      <td>2014-10-01</td>\n",
       "      <td>19:29:00</td>\n",
       "      <td>172.9728</td>\n",
       "      <td>cgm</td>\n",
       "      <td>NaN</td>\n",
       "      <td>2014-10-01 19:29:00</td>\n",
       "    </tr>\n",
       "    <tr>\n",
       "      <th>...</th>\n",
       "      <td>...</td>\n",
       "      <td>...</td>\n",
       "      <td>...</td>\n",
       "      <td>...</td>\n",
       "      <td>...</td>\n",
       "      <td>...</td>\n",
       "    </tr>\n",
       "    <tr>\n",
       "      <th>1433</th>\n",
       "      <td>2014-10-06</td>\n",
       "      <td>16:34:02</td>\n",
       "      <td>221.6214</td>\n",
       "      <td>cgm</td>\n",
       "      <td>NaN</td>\n",
       "      <td>2014-10-06 16:34:02</td>\n",
       "    </tr>\n",
       "    <tr>\n",
       "      <th>1434</th>\n",
       "      <td>2014-10-06</td>\n",
       "      <td>16:39:02</td>\n",
       "      <td>225.2250</td>\n",
       "      <td>cgm</td>\n",
       "      <td>NaN</td>\n",
       "      <td>2014-10-06 16:39:02</td>\n",
       "    </tr>\n",
       "    <tr>\n",
       "      <th>1435</th>\n",
       "      <td>2014-10-06</td>\n",
       "      <td>16:44:02</td>\n",
       "      <td>225.2250</td>\n",
       "      <td>cgm</td>\n",
       "      <td>NaN</td>\n",
       "      <td>2014-10-06 16:44:02</td>\n",
       "    </tr>\n",
       "    <tr>\n",
       "      <th>1436</th>\n",
       "      <td>2014-10-06</td>\n",
       "      <td>16:49:02</td>\n",
       "      <td>221.6214</td>\n",
       "      <td>cgm</td>\n",
       "      <td>NaN</td>\n",
       "      <td>2014-10-06 16:49:02</td>\n",
       "    </tr>\n",
       "    <tr>\n",
       "      <th>1437</th>\n",
       "      <td>2014-10-06</td>\n",
       "      <td>16:54:02</td>\n",
       "      <td>218.0178</td>\n",
       "      <td>cgm</td>\n",
       "      <td>NaN</td>\n",
       "      <td>2014-10-06 16:54:02</td>\n",
       "    </tr>\n",
       "  </tbody>\n",
       "</table>\n",
       "<p>1438 rows × 6 columns</p>\n",
       "</div>"
      ],
      "text/plain": [
       "            date      time   glucose    type  comments            datetime\n",
       "0     2014-10-01  19:14:00  185.5854     cgm       NaN 2014-10-01 19:14:00\n",
       "1     2014-10-01  19:19:00  178.3782     cgm       NaN 2014-10-01 19:19:00\n",
       "2     2014-10-01  19:23:00  169.3692  manual       NaN 2014-10-01 19:23:00\n",
       "3     2014-10-01  19:24:00  176.5764     cgm       NaN 2014-10-01 19:24:00\n",
       "4     2014-10-01  19:29:00  172.9728     cgm       NaN 2014-10-01 19:29:00\n",
       "...          ...       ...       ...     ...       ...                 ...\n",
       "1433  2014-10-06  16:34:02  221.6214     cgm       NaN 2014-10-06 16:34:02\n",
       "1434  2014-10-06  16:39:02  225.2250     cgm       NaN 2014-10-06 16:39:02\n",
       "1435  2014-10-06  16:44:02  225.2250     cgm       NaN 2014-10-06 16:44:02\n",
       "1436  2014-10-06  16:49:02  221.6214     cgm       NaN 2014-10-06 16:49:02\n",
       "1437  2014-10-06  16:54:02  218.0178     cgm       NaN 2014-10-06 16:54:02\n",
       "\n",
       "[1438 rows x 6 columns]"
      ]
     },
     "execution_count": 6,
     "metadata": {},
     "output_type": "execute_result"
    }
   ],
   "source": [
    "#pasar unidades de mmol/L a mg/dL\n",
    "p1['glucose'] = p1['glucose'].astype(float)*18.018\n",
    "#Columna datetime con formato datetime\n",
    "datetime = p1.date + ' ' + p1.time\n",
    "p1['datetime'] = pd.to_datetime(datetime, format= '%Y/%m/%d %H:%M:%S', yearfirst=True)\n",
    "p1"
   ]
  },
  {
   "cell_type": "code",
   "execution_count": 11,
   "metadata": {},
   "outputs": [
    {
     "name": "stderr",
     "output_type": "stream",
     "text": [
      "<ipython-input-11-8756d88aa4c9>:2: SettingWithCopyWarning: \n",
      "A value is trying to be set on a copy of a slice from a DataFrame\n",
      "\n",
      "See the caveats in the documentation: https://pandas.pydata.org/pandas-docs/stable/user_guide/indexing.html#returning-a-view-versus-a-copy\n",
      "  p1.drop_duplicates(inplace=True)\n"
     ]
    },
    {
     "data": {
      "text/html": [
       "<div>\n",
       "<style scoped>\n",
       "    .dataframe tbody tr th:only-of-type {\n",
       "        vertical-align: middle;\n",
       "    }\n",
       "\n",
       "    .dataframe tbody tr th {\n",
       "        vertical-align: top;\n",
       "    }\n",
       "\n",
       "    .dataframe thead th {\n",
       "        text-align: right;\n",
       "    }\n",
       "</style>\n",
       "<table border=\"1\" class=\"dataframe\">\n",
       "  <thead>\n",
       "    <tr style=\"text-align: right;\">\n",
       "      <th></th>\n",
       "      <th>date</th>\n",
       "      <th>time</th>\n",
       "      <th>glucose</th>\n",
       "      <th>type</th>\n",
       "      <th>comments</th>\n",
       "      <th>datetime</th>\n",
       "    </tr>\n",
       "  </thead>\n",
       "  <tbody>\n",
       "    <tr>\n",
       "      <th>0</th>\n",
       "      <td>2014-10-01</td>\n",
       "      <td>19:14:00</td>\n",
       "      <td>185.5854</td>\n",
       "      <td>cgm</td>\n",
       "      <td>NaN</td>\n",
       "      <td>2014-10-01 19:14:00</td>\n",
       "    </tr>\n",
       "    <tr>\n",
       "      <th>1</th>\n",
       "      <td>2014-10-01</td>\n",
       "      <td>19:19:00</td>\n",
       "      <td>178.3782</td>\n",
       "      <td>cgm</td>\n",
       "      <td>NaN</td>\n",
       "      <td>2014-10-01 19:19:00</td>\n",
       "    </tr>\n",
       "    <tr>\n",
       "      <th>3</th>\n",
       "      <td>2014-10-01</td>\n",
       "      <td>19:24:00</td>\n",
       "      <td>176.5764</td>\n",
       "      <td>cgm</td>\n",
       "      <td>NaN</td>\n",
       "      <td>2014-10-01 19:24:00</td>\n",
       "    </tr>\n",
       "    <tr>\n",
       "      <th>4</th>\n",
       "      <td>2014-10-01</td>\n",
       "      <td>19:29:00</td>\n",
       "      <td>172.9728</td>\n",
       "      <td>cgm</td>\n",
       "      <td>NaN</td>\n",
       "      <td>2014-10-01 19:29:00</td>\n",
       "    </tr>\n",
       "    <tr>\n",
       "      <th>5</th>\n",
       "      <td>2014-10-01</td>\n",
       "      <td>19:34:00</td>\n",
       "      <td>169.3692</td>\n",
       "      <td>cgm</td>\n",
       "      <td>NaN</td>\n",
       "      <td>2014-10-01 19:34:00</td>\n",
       "    </tr>\n",
       "    <tr>\n",
       "      <th>...</th>\n",
       "      <td>...</td>\n",
       "      <td>...</td>\n",
       "      <td>...</td>\n",
       "      <td>...</td>\n",
       "      <td>...</td>\n",
       "      <td>...</td>\n",
       "    </tr>\n",
       "    <tr>\n",
       "      <th>1433</th>\n",
       "      <td>2014-10-06</td>\n",
       "      <td>16:34:02</td>\n",
       "      <td>221.6214</td>\n",
       "      <td>cgm</td>\n",
       "      <td>NaN</td>\n",
       "      <td>2014-10-06 16:34:02</td>\n",
       "    </tr>\n",
       "    <tr>\n",
       "      <th>1434</th>\n",
       "      <td>2014-10-06</td>\n",
       "      <td>16:39:02</td>\n",
       "      <td>225.2250</td>\n",
       "      <td>cgm</td>\n",
       "      <td>NaN</td>\n",
       "      <td>2014-10-06 16:39:02</td>\n",
       "    </tr>\n",
       "    <tr>\n",
       "      <th>1435</th>\n",
       "      <td>2014-10-06</td>\n",
       "      <td>16:44:02</td>\n",
       "      <td>225.2250</td>\n",
       "      <td>cgm</td>\n",
       "      <td>NaN</td>\n",
       "      <td>2014-10-06 16:44:02</td>\n",
       "    </tr>\n",
       "    <tr>\n",
       "      <th>1436</th>\n",
       "      <td>2014-10-06</td>\n",
       "      <td>16:49:02</td>\n",
       "      <td>221.6214</td>\n",
       "      <td>cgm</td>\n",
       "      <td>NaN</td>\n",
       "      <td>2014-10-06 16:49:02</td>\n",
       "    </tr>\n",
       "    <tr>\n",
       "      <th>1437</th>\n",
       "      <td>2014-10-06</td>\n",
       "      <td>16:54:02</td>\n",
       "      <td>218.0178</td>\n",
       "      <td>cgm</td>\n",
       "      <td>NaN</td>\n",
       "      <td>2014-10-06 16:54:02</td>\n",
       "    </tr>\n",
       "  </tbody>\n",
       "</table>\n",
       "<p>1413 rows × 6 columns</p>\n",
       "</div>"
      ],
      "text/plain": [
       "            date      time   glucose type  comments            datetime\n",
       "0     2014-10-01  19:14:00  185.5854  cgm       NaN 2014-10-01 19:14:00\n",
       "1     2014-10-01  19:19:00  178.3782  cgm       NaN 2014-10-01 19:19:00\n",
       "3     2014-10-01  19:24:00  176.5764  cgm       NaN 2014-10-01 19:24:00\n",
       "4     2014-10-01  19:29:00  172.9728  cgm       NaN 2014-10-01 19:29:00\n",
       "5     2014-10-01  19:34:00  169.3692  cgm       NaN 2014-10-01 19:34:00\n",
       "...          ...       ...       ...  ...       ...                 ...\n",
       "1433  2014-10-06  16:34:02  221.6214  cgm       NaN 2014-10-06 16:34:02\n",
       "1434  2014-10-06  16:39:02  225.2250  cgm       NaN 2014-10-06 16:39:02\n",
       "1435  2014-10-06  16:44:02  225.2250  cgm       NaN 2014-10-06 16:44:02\n",
       "1436  2014-10-06  16:49:02  221.6214  cgm       NaN 2014-10-06 16:49:02\n",
       "1437  2014-10-06  16:54:02  218.0178  cgm       NaN 2014-10-06 16:54:02\n",
       "\n",
       "[1413 rows x 6 columns]"
      ]
     },
     "execution_count": 11,
     "metadata": {},
     "output_type": "execute_result"
    }
   ],
   "source": [
    "# drop duplicates\n",
    "p1.drop_duplicates(inplace=True)\n",
    "#Nos quedamos solo con los medidos por cgm\n",
    "p1 = p1[p1.type=='cgm']\n",
    "p1"
   ]
  },
  {
   "cell_type": "code",
   "execution_count": 12,
   "metadata": {},
   "outputs": [
    {
     "name": "stderr",
     "output_type": "stream",
     "text": [
      "/home/dsc/anaconda3/lib/python3.8/site-packages/seaborn/_decorators.py:36: FutureWarning: Pass the following variables as keyword args: x, y. From version 0.12, the only valid positional argument will be `data`, and passing other arguments without an explicit keyword will result in an error or misinterpretation.\n",
      "  warnings.warn(\n"
     ]
    },
    {
     "data": {
      "text/plain": [
       "<AxesSubplot:xlabel='datetime', ylabel='glucose'>"
      ]
     },
     "execution_count": 12,
     "metadata": {},
     "output_type": "execute_result"
    },
    {
     "data": {
      "image/png": "[encoded data removed]",
      "text/plain": [
       "<Figure size 864x432 with 1 Axes>"
      ]
     },
     "metadata": {
      "needs_background": "light"
     },
     "output_type": "display_data"
    }
   ],
   "source": [
    "plt.figure(figsize=(12, 6))\n",
    "sns.scatterplot(p1.datetime, p1.glucose)"
   ]
  },
  {
   "cell_type": "code",
   "execution_count": 17,
   "metadata": {},
   "outputs": [
    {
     "name": "stderr",
     "output_type": "stream",
     "text": [
      "/home/dsc/anaconda3/lib/python3.8/site-packages/seaborn/_decorators.py:36: FutureWarning: Pass the following variables as keyword args: x, y. From version 0.12, the only valid positional argument will be `data`, and passing other arguments without an explicit keyword will result in an error or misinterpretation.\n",
      "  warnings.warn(\n"
     ]
    },
    {
     "data": {
      "text/plain": [
       "<AxesSubplot:xlabel='datetime', ylabel='glucose'>"
      ]
     },
     "execution_count": 17,
     "metadata": {},
     "output_type": "execute_result"
    },
    {
     "data": {
      "image/png": "[encoded data removed]",
      "text/plain": [
       "<Figure size 864x432 with 1 Axes>"
      ]
     },
     "metadata": {
      "needs_background": "light"
     },
     "output_type": "display_data"
    }
   ],
   "source": [
    "datos = p1.set_index('datetime')\n",
    "datos = datos.asfreq(freq='5min', method=\"bfill\")\n",
    "datos = datos[['glucose']]\n",
    "datos = datos.sort_index()\n",
    "plt.figure(figsize=(12, 6))\n",
    "sns.scatterplot(datos.index, datos.glucose)"
   ]
  },
  {
   "cell_type": "code",
   "execution_count": 84,
   "metadata": {},
   "outputs": [
    {
     "data": {
      "text/plain": [
       "True"
      ]
     },
     "execution_count": 84,
     "metadata": {},
     "output_type": "execute_result"
    }
   ],
   "source": [
    "# Verificar que un índice temporal está completo\n",
    "# ==============================================================================\n",
    "(datos.index == pd.date_range(start=datos.index.min(),\n",
    "                              end=datos.index.max(),\n",
    "                              freq=datos.index.freq)).all()"
   ]
  },
  {
   "cell_type": "markdown",
   "metadata": {},
   "source": [
    "# ML"
   ]
  },
  {
   "cell_type": "code",
   "execution_count": 71,
   "metadata": {},
   "outputs": [],
   "source": [
    "datos = datos[['glucose']]"
   ]
  },
  {
   "cell_type": "code",
   "execution_count": 75,
   "metadata": {},
   "outputs": [
    {
     "data": {
      "text/html": [
       "<div>\n",
       "<style scoped>\n",
       "    .dataframe tbody tr th:only-of-type {\n",
       "        vertical-align: middle;\n",
       "    }\n",
       "\n",
       "    .dataframe tbody tr th {\n",
       "        vertical-align: top;\n",
       "    }\n",
       "\n",
       "    .dataframe thead th {\n",
       "        text-align: right;\n",
       "    }\n",
       "</style>\n",
       "<table border=\"1\" class=\"dataframe\">\n",
       "  <thead>\n",
       "    <tr style=\"text-align: right;\">\n",
       "      <th></th>\n",
       "      <th>glucose</th>\n",
       "      <th>s-24</th>\n",
       "      <th>c-24</th>\n",
       "      <th>s-168</th>\n",
       "      <th>c-168</th>\n",
       "      <th>s-8760</th>\n",
       "      <th>c-8760</th>\n",
       "      <th>s-48</th>\n",
       "      <th>c-48</th>\n",
       "      <th>s-72</th>\n",
       "      <th>c-72</th>\n",
       "    </tr>\n",
       "    <tr>\n",
       "      <th>datetime</th>\n",
       "      <th></th>\n",
       "      <th></th>\n",
       "      <th></th>\n",
       "      <th></th>\n",
       "      <th></th>\n",
       "      <th></th>\n",
       "      <th></th>\n",
       "      <th></th>\n",
       "      <th></th>\n",
       "      <th></th>\n",
       "      <th></th>\n",
       "    </tr>\n",
       "  </thead>\n",
       "  <tbody>\n",
       "    <tr>\n",
       "      <th>2014-10-01 19:14:00</th>\n",
       "      <td>185.5854</td>\n",
       "      <td>0.000000</td>\n",
       "      <td>1.000000e+00</td>\n",
       "      <td>0.000000</td>\n",
       "      <td>1.000000</td>\n",
       "      <td>0.000000</td>\n",
       "      <td>1.000000</td>\n",
       "      <td>0.000000</td>\n",
       "      <td>1.000000</td>\n",
       "      <td>0.000000</td>\n",
       "      <td>1.000000</td>\n",
       "    </tr>\n",
       "    <tr>\n",
       "      <th>2014-10-01 19:19:00</th>\n",
       "      <td>178.3782</td>\n",
       "      <td>0.258819</td>\n",
       "      <td>9.659258e-01</td>\n",
       "      <td>0.037391</td>\n",
       "      <td>0.999301</td>\n",
       "      <td>0.000717</td>\n",
       "      <td>1.000000</td>\n",
       "      <td>0.130526</td>\n",
       "      <td>0.991445</td>\n",
       "      <td>0.087156</td>\n",
       "      <td>0.996195</td>\n",
       "    </tr>\n",
       "    <tr>\n",
       "      <th>2014-10-01 19:24:00</th>\n",
       "      <td>176.5764</td>\n",
       "      <td>0.500000</td>\n",
       "      <td>8.660254e-01</td>\n",
       "      <td>0.074730</td>\n",
       "      <td>0.997204</td>\n",
       "      <td>0.001435</td>\n",
       "      <td>0.999999</td>\n",
       "      <td>0.258819</td>\n",
       "      <td>0.965926</td>\n",
       "      <td>0.173648</td>\n",
       "      <td>0.984808</td>\n",
       "    </tr>\n",
       "    <tr>\n",
       "      <th>2014-10-01 19:29:00</th>\n",
       "      <td>172.9728</td>\n",
       "      <td>0.707107</td>\n",
       "      <td>7.071068e-01</td>\n",
       "      <td>0.111964</td>\n",
       "      <td>0.993712</td>\n",
       "      <td>0.002152</td>\n",
       "      <td>0.999998</td>\n",
       "      <td>0.382683</td>\n",
       "      <td>0.923880</td>\n",
       "      <td>0.258819</td>\n",
       "      <td>0.965926</td>\n",
       "    </tr>\n",
       "    <tr>\n",
       "      <th>2014-10-01 19:34:00</th>\n",
       "      <td>169.3692</td>\n",
       "      <td>0.866025</td>\n",
       "      <td>5.000000e-01</td>\n",
       "      <td>0.149042</td>\n",
       "      <td>0.988831</td>\n",
       "      <td>0.002869</td>\n",
       "      <td>0.999996</td>\n",
       "      <td>0.500000</td>\n",
       "      <td>0.866025</td>\n",
       "      <td>0.342020</td>\n",
       "      <td>0.939693</td>\n",
       "    </tr>\n",
       "    <tr>\n",
       "      <th>...</th>\n",
       "      <td>...</td>\n",
       "      <td>...</td>\n",
       "      <td>...</td>\n",
       "      <td>...</td>\n",
       "      <td>...</td>\n",
       "      <td>...</td>\n",
       "      <td>...</td>\n",
       "      <td>...</td>\n",
       "      <td>...</td>\n",
       "      <td>...</td>\n",
       "      <td>...</td>\n",
       "    </tr>\n",
       "    <tr>\n",
       "      <th>2014-10-06 16:34:00</th>\n",
       "      <td>221.6214</td>\n",
       "      <td>-0.866025</td>\n",
       "      <td>-5.000000e-01</td>\n",
       "      <td>0.680173</td>\n",
       "      <td>-0.733052</td>\n",
       "      <td>0.846779</td>\n",
       "      <td>0.531945</td>\n",
       "      <td>0.866025</td>\n",
       "      <td>-0.500000</td>\n",
       "      <td>-0.342020</td>\n",
       "      <td>-0.939693</td>\n",
       "    </tr>\n",
       "    <tr>\n",
       "      <th>2014-10-06 16:39:00</th>\n",
       "      <td>225.2250</td>\n",
       "      <td>-0.965926</td>\n",
       "      <td>-2.588190e-01</td>\n",
       "      <td>0.652287</td>\n",
       "      <td>-0.757972</td>\n",
       "      <td>0.847160</td>\n",
       "      <td>0.531338</td>\n",
       "      <td>0.793353</td>\n",
       "      <td>-0.608761</td>\n",
       "      <td>-0.422618</td>\n",
       "      <td>-0.906308</td>\n",
       "    </tr>\n",
       "    <tr>\n",
       "      <th>2014-10-06 16:44:00</th>\n",
       "      <td>225.2250</td>\n",
       "      <td>-1.000000</td>\n",
       "      <td>-1.616596e-14</td>\n",
       "      <td>0.623490</td>\n",
       "      <td>-0.781831</td>\n",
       "      <td>0.847541</td>\n",
       "      <td>0.530730</td>\n",
       "      <td>0.707107</td>\n",
       "      <td>-0.707107</td>\n",
       "      <td>-0.500000</td>\n",
       "      <td>-0.866025</td>\n",
       "    </tr>\n",
       "    <tr>\n",
       "      <th>2014-10-06 16:49:00</th>\n",
       "      <td>221.6214</td>\n",
       "      <td>-0.965926</td>\n",
       "      <td>2.588190e-01</td>\n",
       "      <td>0.593820</td>\n",
       "      <td>-0.804598</td>\n",
       "      <td>0.847921</td>\n",
       "      <td>0.530122</td>\n",
       "      <td>0.608761</td>\n",
       "      <td>-0.793353</td>\n",
       "      <td>-0.573576</td>\n",
       "      <td>-0.819152</td>\n",
       "    </tr>\n",
       "    <tr>\n",
       "      <th>2014-10-06 16:54:00</th>\n",
       "      <td>218.0178</td>\n",
       "      <td>-0.866025</td>\n",
       "      <td>5.000000e-01</td>\n",
       "      <td>0.563320</td>\n",
       "      <td>-0.826239</td>\n",
       "      <td>0.848301</td>\n",
       "      <td>0.529514</td>\n",
       "      <td>0.500000</td>\n",
       "      <td>-0.866025</td>\n",
       "      <td>-0.642788</td>\n",
       "      <td>-0.766044</td>\n",
       "    </tr>\n",
       "  </tbody>\n",
       "</table>\n",
       "<p>1413 rows × 11 columns</p>\n",
       "</div>"
      ],
      "text/plain": [
       "                      glucose      s-24          c-24     s-168     c-168  \\\n",
       "datetime                                                                    \n",
       "2014-10-01 19:14:00  185.5854  0.000000  1.000000e+00  0.000000  1.000000   \n",
       "2014-10-01 19:19:00  178.3782  0.258819  9.659258e-01  0.037391  0.999301   \n",
       "2014-10-01 19:24:00  176.5764  0.500000  8.660254e-01  0.074730  0.997204   \n",
       "2014-10-01 19:29:00  172.9728  0.707107  7.071068e-01  0.111964  0.993712   \n",
       "2014-10-01 19:34:00  169.3692  0.866025  5.000000e-01  0.149042  0.988831   \n",
       "...                       ...       ...           ...       ...       ...   \n",
       "2014-10-06 16:34:00  221.6214 -0.866025 -5.000000e-01  0.680173 -0.733052   \n",
       "2014-10-06 16:39:00  225.2250 -0.965926 -2.588190e-01  0.652287 -0.757972   \n",
       "2014-10-06 16:44:00  225.2250 -1.000000 -1.616596e-14  0.623490 -0.781831   \n",
       "2014-10-06 16:49:00  221.6214 -0.965926  2.588190e-01  0.593820 -0.804598   \n",
       "2014-10-06 16:54:00  218.0178 -0.866025  5.000000e-01  0.563320 -0.826239   \n",
       "\n",
       "                       s-8760    c-8760      s-48      c-48      s-72  \\\n",
       "datetime                                                                \n",
       "2014-10-01 19:14:00  0.000000  1.000000  0.000000  1.000000  0.000000   \n",
       "2014-10-01 19:19:00  0.000717  1.000000  0.130526  0.991445  0.087156   \n",
       "2014-10-01 19:24:00  0.001435  0.999999  0.258819  0.965926  0.173648   \n",
       "2014-10-01 19:29:00  0.002152  0.999998  0.382683  0.923880  0.258819   \n",
       "2014-10-01 19:34:00  0.002869  0.999996  0.500000  0.866025  0.342020   \n",
       "...                       ...       ...       ...       ...       ...   \n",
       "2014-10-06 16:34:00  0.846779  0.531945  0.866025 -0.500000 -0.342020   \n",
       "2014-10-06 16:39:00  0.847160  0.531338  0.793353 -0.608761 -0.422618   \n",
       "2014-10-06 16:44:00  0.847541  0.530730  0.707107 -0.707107 -0.500000   \n",
       "2014-10-06 16:49:00  0.847921  0.530122  0.608761 -0.793353 -0.573576   \n",
       "2014-10-06 16:54:00  0.848301  0.529514  0.500000 -0.866025 -0.642788   \n",
       "\n",
       "                         c-72  \n",
       "datetime                       \n",
       "2014-10-01 19:14:00  1.000000  \n",
       "2014-10-01 19:19:00  0.996195  \n",
       "2014-10-01 19:24:00  0.984808  \n",
       "2014-10-01 19:29:00  0.965926  \n",
       "2014-10-01 19:34:00  0.939693  \n",
       "...                       ...  \n",
       "2014-10-06 16:34:00 -0.939693  \n",
       "2014-10-06 16:39:00 -0.906308  \n",
       "2014-10-06 16:44:00 -0.866025  \n",
       "2014-10-06 16:49:00 -0.819152  \n",
       "2014-10-06 16:54:00 -0.766044  \n",
       "\n",
       "[1413 rows x 11 columns]"
      ]
     },
     "execution_count": 75,
     "metadata": {},
     "output_type": "execute_result"
    }
   ],
   "source": [
    "# Seasonal features: We will add daily and two days season\n",
    "# sin(2*pi*x/period)\n",
    "for period in [24,24*2]:\n",
    "    datos[f\"s-{period}\"]=np.sin(2*np.pi*np.arange(len(datos))/period)\n",
    "    datos[f\"c-{period}\"]=np.cos(2*np.pi*np.arange(len(datos))/period)\n",
    "datos"
   ]
  },
  {
   "cell_type": "code",
   "execution_count": 77,
   "metadata": {},
   "outputs": [
    {
     "data": {
      "text/plain": [
       "Index(['glucose', 's-24', 'c-24', 's-168', 'c-168', 's-8760', 'c-8760', 's-48',\n",
       "       'c-48', 's-72', 'c-72'],\n",
       "      dtype='object')"
      ]
     },
     "execution_count": 77,
     "metadata": {},
     "output_type": "execute_result"
    }
   ],
   "source": [
    "datos.columns"
   ]
  },
  {
   "cell_type": "code",
   "execution_count": 78,
   "metadata": {},
   "outputs": [],
   "source": [
    "X = datos[['s-24', 'c-24', 's-168', 'c-168', 's-8760', 'c-8760', 's-48',\n",
    "       'c-48', 's-72', 'c-72']]\n",
    "y = datos['glucose']"
   ]
  },
  {
   "cell_type": "code",
   "execution_count": 80,
   "metadata": {},
   "outputs": [
    {
     "data": {
      "text/plain": [
       "Timestamp('2014-10-01 19:14:00', freq='5T')"
      ]
     },
     "execution_count": 80,
     "metadata": {},
     "output_type": "execute_result"
    }
   ],
   "source": [
    "# Minimum Datetime\n",
    "datos.index.min()"
   ]
  },
  {
   "cell_type": "code",
   "execution_count": 81,
   "metadata": {},
   "outputs": [
    {
     "data": {
      "text/plain": [
       "Timestamp('2014-10-06 16:54:00', freq='5T')"
      ]
     },
     "execution_count": 81,
     "metadata": {},
     "output_type": "execute_result"
    }
   ],
   "source": [
    "# Minimum Datetime\n",
    "datos.index.max()"
   ]
  },
  {
   "cell_type": "code",
   "execution_count": 107,
   "metadata": {},
   "outputs": [
    {
     "data": {
      "image/png": "[encoded data removed]",
      "text/plain": [
       "<Figure size 648x288 with 1 Axes>"
      ]
     },
     "metadata": {
      "needs_background": "light"
     },
     "output_type": "display_data"
    }
   ],
   "source": [
    "# Separación datos train-test\n",
    "# ==============================================================================\n",
    "steps = 36\n",
    "datos_train = datos[:-steps]\n",
    "datos_test  = datos[-steps:]\n",
    "\n",
    "fig, ax=plt.subplots(figsize=(9, 4))\n",
    "datos_train['glucose'].plot(ax=ax, label='train')\n",
    "datos_test['glucose'].plot(ax=ax, label='test')\n",
    "ax.legend();"
   ]
  },
  {
   "cell_type": "code",
   "execution_count": 101,
   "metadata": {},
   "outputs": [],
   "source": [
    "# Train / Test possibility 1\n",
    "# We take last 1 day (24)\n",
    "# !!!!!!! Gridsearch (and cross_val) in sklearn uses POSITIONAL index, not dataframe index\n",
    "steps=36\n",
    "train_index = np.arange(len(X.index))[:-steps]\n",
    "test_index = np.arange(len(X.index))[-steps:]"
   ]
  },
  {
   "cell_type": "code",
   "execution_count": 102,
   "metadata": {},
   "outputs": [
    {
     "data": {
      "text/plain": [
       "GridSearchCV(cv=[(array([   0,    1,    2, ..., 1374, 1375, 1376]),\n",
       "                  array([1377, 1378, 1379, 1380, 1381, 1382, 1383, 1384, 1385, 1386, 1387,\n",
       "       1388, 1389, 1390, 1391, 1392, 1393, 1394, 1395, 1396, 1397, 1398,\n",
       "       1399, 1400, 1401, 1402, 1403, 1404, 1405, 1406, 1407, 1408, 1409,\n",
       "       1410, 1411, 1412]))],\n",
       "             estimator=DecisionTreeRegressor(),\n",
       "             param_grid={'max_depth': array([ 2,  3,  4,  5,  6,  7,  8,  9, 10]),\n",
       "                         'min_samples_leaf': array([10, 25, 40, 55, 70, 85])},\n",
       "             scoring='neg_mean_absolute_error')"
      ]
     },
     "execution_count": 102,
     "metadata": {},
     "output_type": "execute_result"
    }
   ],
   "source": [
    "reg_gd = GridSearchCV(DecisionTreeRegressor(),\n",
    "                      param_grid={\"max_depth\":np.arange(2,11),\n",
    "                                  \"min_samples_leaf\":np.arange(10,100,15)},\n",
    "                      scoring=\"neg_mean_absolute_error\",\n",
    "                      cv=[(train_index,test_index)])\n",
    "reg_gd.fit(X,y)"
   ]
  },
  {
   "cell_type": "code",
   "execution_count": 103,
   "metadata": {},
   "outputs": [
    {
     "data": {
      "text/plain": [
       "{'max_depth': 5, 'min_samples_leaf': 85}"
      ]
     },
     "execution_count": 103,
     "metadata": {},
     "output_type": "execute_result"
    }
   ],
   "source": [
    "reg_gd.best_params_\n"
   ]
  },
  {
   "cell_type": "code",
   "execution_count": 104,
   "metadata": {},
   "outputs": [
    {
     "data": {
      "text/plain": [
       "-69.01087741935471"
      ]
     },
     "execution_count": 104,
     "metadata": {},
     "output_type": "execute_result"
    }
   ],
   "source": [
    "reg_gd.best_score_"
   ]
  },
  {
   "cell_type": "code",
   "execution_count": 105,
   "metadata": {},
   "outputs": [
    {
     "data": {
      "text/plain": [
       "GridSearchCV(cv=[(array([   0,    3,    5,    8,    9,   10,   13,   16,   17,   19,   20,\n",
       "         21,   22,   23,   26,   27,   29,   31,   32,   34,   37,   39,\n",
       "         40,   41,   43,   44,   45,   50,   51,   54,   55,   56,   58,\n",
       "         59,   60,   61,   63,   66,   67,   69,   72,   73,   74,   75,\n",
       "         78,   79,   81,   82,   83,   84,   85,   86,   87,   90,   91,\n",
       "         94,   95,   97,   98,   99,  101,  102,  103,  105,  107,  108,\n",
       "        109,  111,  112,  114,  116,  118,  119,  121,  122,  123,  125,\n",
       "        126,  127,  129,  131,  132,  133,  135,  140,  141,  142,  143,\n",
       "        145,  146,  147,  148,  149,  150,  151,  152,  153,  15...\n",
       "       1143, 1155, 1156, 1164, 1165, 1177, 1189, 1190, 1192, 1199, 1202,\n",
       "       1205, 1208, 1209, 1212, 1216, 1219, 1224, 1226, 1233, 1236, 1245,\n",
       "       1253, 1256, 1258, 1260, 1261, 1262, 1276, 1282, 1284, 1289, 1292,\n",
       "       1304, 1308, 1316, 1317, 1322, 1337, 1340, 1349, 1351, 1369, 1370,\n",
       "       1378, 1395, 1403, 1404, 1406, 1407, 1409]))],\n",
       "             estimator=RandomForestRegressor(),\n",
       "             param_grid={'max_depth': array([ 3,  4,  5,  6,  7,  8,  9, 10, 11, 12, 13, 14, 15, 16, 17, 18, 19])},\n",
       "             scoring='neg_mean_squared_error')"
      ]
     },
     "execution_count": 105,
     "metadata": {},
     "output_type": "execute_result"
    }
   ],
   "source": [
    "# Testing way 2\n",
    "# We'll perform a cross-validation, but removing from training the points that are linked to the test set\n",
    "from sklearn.model_selection import GridSearchCV\n",
    "from sklearn.model_selection import KFold\n",
    "\n",
    "tt_indexes = []\n",
    "kf = KFold(5,shuffle=True)\n",
    "# We loop through all the cv train/test sets\n",
    "for train_index, test_index in kf.split(X):\n",
    "    for i in [24,48]:\n",
    "        train_index=np.array(list(set(train_index)-set(test_index-i)))\n",
    "        tt_indexes.append((train_index,test_index))\n",
    "\n",
    "reg = GridSearchCV(RandomForestRegressor(),\n",
    "                   param_grid={\"max_depth\":np.arange(3,20)},\n",
    "                   scoring=\"neg_mean_squared_error\",\n",
    "                   cv=tt_indexes)\n",
    "a=reg.fit(X,y) \n",
    "a"
   ]
  },
  {
   "cell_type": "code",
   "execution_count": 95,
   "metadata": {},
   "outputs": [
    {
     "data": {
      "text/plain": [
       "{'max_depth': 12}"
      ]
     },
     "execution_count": 95,
     "metadata": {},
     "output_type": "execute_result"
    }
   ],
   "source": [
    "reg.best_params_"
   ]
  },
  {
   "cell_type": "code",
   "execution_count": 96,
   "metadata": {},
   "outputs": [
    {
     "data": {
      "text/plain": [
       "-51.71108390823817"
      ]
     },
     "execution_count": 96,
     "metadata": {},
     "output_type": "execute_result"
    }
   ],
   "source": [
    "reg.best_score_"
   ]
  },
  {
   "cell_type": "code",
   "execution_count": 100,
   "metadata": {},
   "outputs": [
    {
     "data": {
      "text/plain": [
       "GridSearchCV(cv=[(array([   0,    1,    3,    4,    7,   10,   12,   13,   14,   16,   17,\n",
       "         18,   19,   23,   24,   25,   26,   27,   29,   34,   35,   36,\n",
       "         37,   38,   39,   40,   41,   42,   43,   44,   45,   48,   49,\n",
       "         50,   51,   54,   57,   58,   59,   60,   61,   62,   63,   64,\n",
       "         65,   67,   68,   72,   74,   75,   76,   78,   79,   81,   82,\n",
       "         84,   85,   86,   87,   88,   89,   91,   92,   95,   96,   99,\n",
       "        100,  101,  103,  104,  105,  106,  108,  109,  111,  112,  113,\n",
       "        114,  115,  116,  117,  119,  120,  121,  123,  124,  125,  128,\n",
       "        130,  132,  133,  136,  137,  138,  139,  140,  141,  142,  145,...\n",
       "       1149, 1153, 1154, 1161, 1162, 1167, 1171, 1176, 1179, 1184, 1190,\n",
       "       1197, 1198, 1206, 1208, 1212, 1215, 1225, 1227, 1230, 1234, 1249,\n",
       "       1251, 1254, 1259, 1267, 1269, 1290, 1298, 1299, 1304, 1305, 1311,\n",
       "       1315, 1316, 1319, 1323, 1342, 1345, 1348, 1365, 1367, 1372, 1373,\n",
       "       1376, 1377, 1381, 1385, 1390, 1393, 1411]))],\n",
       "             estimator=RandomForestRegressor(),\n",
       "             param_grid={'max_depth': array([ 3,  4,  5,  6,  7,  8,  9, 10, 11, 12, 13, 14, 15, 16, 17, 18, 19])},\n",
       "             scoring='neg_mean_squared_error')"
      ]
     },
     "execution_count": 100,
     "metadata": {},
     "output_type": "execute_result"
    }
   ],
   "source": []
  },
  {
   "cell_type": "code",
   "execution_count": 109,
   "metadata": {},
   "outputs": [
    {
     "ename": "TypeError",
     "evalue": "predict() missing 1 required positional argument: 'X'",
     "output_type": "error",
     "traceback": [
      "\u001b[0;31m---------------------------------------------------------------------------\u001b[0m",
      "\u001b[0;31mTypeError\u001b[0m                                 Traceback (most recent call last)",
      "\u001b[0;32m<ipython-input-109-be92c8edea26>\u001b[0m in \u001b[0;36m<module>\u001b[0;34m\u001b[0m\n\u001b[1;32m      1\u001b[0m \u001b[0;31m# Predicciones\u001b[0m\u001b[0;34m\u001b[0m\u001b[0;34m\u001b[0m\u001b[0;34m\u001b[0m\u001b[0m\n\u001b[1;32m      2\u001b[0m \u001b[0;31m# ==============================================================================\u001b[0m\u001b[0;34m\u001b[0m\u001b[0;34m\u001b[0m\u001b[0;34m\u001b[0m\u001b[0m\n\u001b[0;32m----> 3\u001b[0;31m \u001b[0mpredicciones\u001b[0m \u001b[0;34m=\u001b[0m \u001b[0mreg\u001b[0m\u001b[0;34m.\u001b[0m\u001b[0mpredict\u001b[0m\u001b[0;34m(\u001b[0m\u001b[0;34m)\u001b[0m\u001b[0;34m\u001b[0m\u001b[0;34m\u001b[0m\u001b[0m\n\u001b[0m\u001b[1;32m      4\u001b[0m \u001b[0;31m# Se añade el índice a las predicciones\u001b[0m\u001b[0;34m\u001b[0m\u001b[0;34m\u001b[0m\u001b[0;34m\u001b[0m\u001b[0m\n\u001b[1;32m      5\u001b[0m \u001b[0mpredicciones\u001b[0m \u001b[0;34m=\u001b[0m \u001b[0mpd\u001b[0m\u001b[0;34m.\u001b[0m\u001b[0mSeries\u001b[0m\u001b[0;34m(\u001b[0m\u001b[0mdata\u001b[0m\u001b[0;34m=\u001b[0m\u001b[0mpredicciones\u001b[0m\u001b[0;34m,\u001b[0m \u001b[0mindex\u001b[0m\u001b[0;34m=\u001b[0m\u001b[0mdatos_test\u001b[0m\u001b[0;34m.\u001b[0m\u001b[0mindex\u001b[0m\u001b[0;34m)\u001b[0m\u001b[0;34m\u001b[0m\u001b[0;34m\u001b[0m\u001b[0m\n",
      "\u001b[0;32m~/anaconda3/lib/python3.8/site-packages/sklearn/utils/metaestimators.py\u001b[0m in \u001b[0;36m<lambda>\u001b[0;34m(*args, **kwargs)\u001b[0m\n\u001b[1;32m    117\u001b[0m                 \u001b[0;32mif\u001b[0m \u001b[0;32mnot\u001b[0m \u001b[0mself\u001b[0m\u001b[0;34m.\u001b[0m\u001b[0mcheck\u001b[0m\u001b[0;34m(\u001b[0m\u001b[0margs\u001b[0m\u001b[0;34m[\u001b[0m\u001b[0;36m0\u001b[0m\u001b[0;34m]\u001b[0m\u001b[0;34m)\u001b[0m\u001b[0;34m:\u001b[0m\u001b[0;34m\u001b[0m\u001b[0;34m\u001b[0m\u001b[0m\n\u001b[1;32m    118\u001b[0m                     \u001b[0;32mraise\u001b[0m \u001b[0mattr_err\u001b[0m\u001b[0;34m\u001b[0m\u001b[0;34m\u001b[0m\u001b[0m\n\u001b[0;32m--> 119\u001b[0;31m                 \u001b[0;32mreturn\u001b[0m \u001b[0mself\u001b[0m\u001b[0;34m.\u001b[0m\u001b[0mfn\u001b[0m\u001b[0;34m(\u001b[0m\u001b[0;34m*\u001b[0m\u001b[0margs\u001b[0m\u001b[0;34m,\u001b[0m \u001b[0;34m**\u001b[0m\u001b[0mkwargs\u001b[0m\u001b[0;34m)\u001b[0m\u001b[0;34m\u001b[0m\u001b[0;34m\u001b[0m\u001b[0m\n\u001b[0m\u001b[1;32m    120\u001b[0m \u001b[0;34m\u001b[0m\u001b[0m\n\u001b[1;32m    121\u001b[0m             \u001b[0;31m# This makes it possible to use the decorated method as an unbound method,\u001b[0m\u001b[0;34m\u001b[0m\u001b[0;34m\u001b[0m\u001b[0;34m\u001b[0m\u001b[0m\n",
      "\u001b[0;31mTypeError\u001b[0m: predict() missing 1 required positional argument: 'X'"
     ]
    }
   ],
   "source": [
    "# Predicciones\n",
    "# ==============================================================================\n",
    "predicciones = reg.predict()\n",
    "# Se añade el índice a las predicciones\n",
    "predicciones = pd.Series(data=predicciones, index=datos_test.index)\n"
   ]
  },
  {
   "cell_type": "code",
   "execution_count": null,
   "metadata": {},
   "outputs": [],
   "source": [
    "# Gráfico\n",
    "# ==============================================================================\n",
    "fig, ax = plt.subplots(figsize=(9, 4))\n",
    "datos_train.plot(ax=ax, label='train')\n",
    "datos_test.plot(ax=ax, label='test')\n",
    "predicciones.plot(ax=ax, label='predicciones')\n",
    "ax.legend();\n",
    "\n"
   ]
  }
 ],
 "metadata": {
  "kernelspec": {
   "display_name": "Python 3",
   "language": "python",
   "name": "python3"
  },
  "language_info": {
   "codemirror_mode": {
    "name": "ipython",
    "version": 3
   },
   "file_extension": ".py",
   "mimetype": "text/x-python",
   "name": "python",
   "nbconvert_exporter": "python",
   "pygments_lexer": "ipython3",
   "version": "3.8.5"
  }
 },
 "nbformat": 4,
 "nbformat_minor": 4
}
