{
 "cells": [
  {
   "cell_type": "code",
   "execution_count": 1,
   "metadata": {},
   "outputs": [],
   "source": [
    "import pandas as pd\n",
    "import numpy as np\n",
    "import matplotlib.pyplot as plt\n",
    "import seaborn as sns\n",
    "\n",
    "# Configuración warnings\n",
    "# ==============================================================================\n",
    "import warnings\n",
    "warnings.filterwarnings('ignore')"
   ]
  },
  {
   "cell_type": "code",
   "execution_count": 2,
   "metadata": {},
   "outputs": [
    {
     "name": "stdout",
     "output_type": "stream",
     "text": [
      "Requirement already satisfied: skforecast in /home/dsc/anaconda3/lib/python3.8/site-packages (0.3.0)\n",
      "Requirement already satisfied: tqdm>=4.57.0 in /home/dsc/anaconda3/lib/python3.8/site-packages (from skforecast) (4.62.3)\n",
      "Requirement already satisfied: scikit-learn>=0.24 in /home/dsc/anaconda3/lib/python3.8/site-packages (from skforecast) (1.0.1)\n",
      "Requirement already satisfied: statsmodels>=0.12.2 in /home/dsc/anaconda3/lib/python3.8/site-packages (from skforecast) (0.13.1)\n",
      "Requirement already satisfied: numpy>=1.20.1 in /home/dsc/anaconda3/lib/python3.8/site-packages (from skforecast) (1.21.4)\n",
      "Requirement already satisfied: pandas>=1.2.2 in /home/dsc/anaconda3/lib/python3.8/site-packages (from skforecast) (1.3.4)\n",
      "Requirement already satisfied: threadpoolctl>=2.0.0 in /home/dsc/anaconda3/lib/python3.8/site-packages (from scikit-learn>=0.24->skforecast) (2.1.0)\n",
      "Requirement already satisfied: scipy>=1.1.0 in /home/dsc/anaconda3/lib/python3.8/site-packages (from scikit-learn>=0.24->skforecast) (1.5.2)\n",
      "Requirement already satisfied: joblib>=0.11 in /home/dsc/anaconda3/lib/python3.8/site-packages (from scikit-learn>=0.24->skforecast) (0.17.0)\n",
      "Requirement already satisfied: patsy>=0.5.2 in /home/dsc/anaconda3/lib/python3.8/site-packages (from statsmodels>=0.12.2->skforecast) (0.5.2)\n",
      "Requirement already satisfied: python-dateutil>=2.7.3 in /home/dsc/anaconda3/lib/python3.8/site-packages (from pandas>=1.2.2->skforecast) (2.8.1)\n",
      "Requirement already satisfied: pytz>=2017.3 in /home/dsc/anaconda3/lib/python3.8/site-packages (from pandas>=1.2.2->skforecast) (2020.1)\n",
      "Requirement already satisfied: six in /home/dsc/anaconda3/lib/python3.8/site-packages (from patsy>=0.5.2->statsmodels>=0.12.2->skforecast) (1.15.0)\n"
     ]
    }
   ],
   "source": [
    "!pip install skforecast"
   ]
  },
  {
   "cell_type": "code",
   "execution_count": 3,
   "metadata": {},
   "outputs": [],
   "source": [
    "# Modelado y Forecasting\n",
    "# ==============================================================================\n",
    "from sklearn.linear_model import LinearRegression\n",
    "from sklearn.linear_model import Lasso\n",
    "from sklearn.ensemble import RandomForestRegressor\n",
    "from sklearn.metrics import mean_squared_error\n",
    "from sklearn.metrics import mean_absolute_error\n",
    "from sklearn.tree import DecisionTreeRegressor\n",
    "from sklearn.model_selection import GridSearchCV,RandomizedSearchCV\n",
    "#from skforecast.ForecasterAutoregCustom import ForecasterAutoregCustom\n",
    "#from skforecast.ForecasterAutoregMultiOutput import ForecasterAutoregMultiOutput\n",
    "#from skforecast.model_selection import grid_search_forecaster\n",
    "#from skforecast.model_selection import backtesting_forecaster\n",
    "#from skforecast.model_selection import backtesting_forecaster_intervals\n",
    "\n",
    "#from joblib import dump, load"
   ]
  },
  {
   "cell_type": "code",
   "execution_count": 4,
   "metadata": {},
   "outputs": [
    {
     "data": {
      "text/html": [
       "<div>\n",
       "<style scoped>\n",
       "    .dataframe tbody tr th:only-of-type {\n",
       "        vertical-align: middle;\n",
       "    }\n",
       "\n",
       "    .dataframe tbody tr th {\n",
       "        vertical-align: top;\n",
       "    }\n",
       "\n",
       "    .dataframe thead th {\n",
       "        text-align: right;\n",
       "    }\n",
       "</style>\n",
       "<table border=\"1\" class=\"dataframe\">\n",
       "  <thead>\n",
       "    <tr style=\"text-align: right;\">\n",
       "      <th></th>\n",
       "      <th>date</th>\n",
       "      <th>time</th>\n",
       "      <th>glucose</th>\n",
       "      <th>type</th>\n",
       "      <th>comments</th>\n",
       "    </tr>\n",
       "  </thead>\n",
       "  <tbody>\n",
       "    <tr>\n",
       "      <th>0</th>\n",
       "      <td>2014-10-01</td>\n",
       "      <td>19:14:00</td>\n",
       "      <td>10.3</td>\n",
       "      <td>cgm</td>\n",
       "      <td>NaN</td>\n",
       "    </tr>\n",
       "    <tr>\n",
       "      <th>1</th>\n",
       "      <td>2014-10-01</td>\n",
       "      <td>19:19:00</td>\n",
       "      <td>9.9</td>\n",
       "      <td>cgm</td>\n",
       "      <td>NaN</td>\n",
       "    </tr>\n",
       "    <tr>\n",
       "      <th>2</th>\n",
       "      <td>2014-10-01</td>\n",
       "      <td>19:23:00</td>\n",
       "      <td>9.4</td>\n",
       "      <td>manual</td>\n",
       "      <td>NaN</td>\n",
       "    </tr>\n",
       "    <tr>\n",
       "      <th>3</th>\n",
       "      <td>2014-10-01</td>\n",
       "      <td>19:24:00</td>\n",
       "      <td>9.8</td>\n",
       "      <td>cgm</td>\n",
       "      <td>NaN</td>\n",
       "    </tr>\n",
       "    <tr>\n",
       "      <th>4</th>\n",
       "      <td>2014-10-01</td>\n",
       "      <td>19:29:00</td>\n",
       "      <td>9.6</td>\n",
       "      <td>cgm</td>\n",
       "      <td>NaN</td>\n",
       "    </tr>\n",
       "    <tr>\n",
       "      <th>...</th>\n",
       "      <td>...</td>\n",
       "      <td>...</td>\n",
       "      <td>...</td>\n",
       "      <td>...</td>\n",
       "      <td>...</td>\n",
       "    </tr>\n",
       "    <tr>\n",
       "      <th>1433</th>\n",
       "      <td>2014-10-06</td>\n",
       "      <td>16:34:02</td>\n",
       "      <td>12.3</td>\n",
       "      <td>cgm</td>\n",
       "      <td>NaN</td>\n",
       "    </tr>\n",
       "    <tr>\n",
       "      <th>1434</th>\n",
       "      <td>2014-10-06</td>\n",
       "      <td>16:39:02</td>\n",
       "      <td>12.5</td>\n",
       "      <td>cgm</td>\n",
       "      <td>NaN</td>\n",
       "    </tr>\n",
       "    <tr>\n",
       "      <th>1435</th>\n",
       "      <td>2014-10-06</td>\n",
       "      <td>16:44:02</td>\n",
       "      <td>12.5</td>\n",
       "      <td>cgm</td>\n",
       "      <td>NaN</td>\n",
       "    </tr>\n",
       "    <tr>\n",
       "      <th>1436</th>\n",
       "      <td>2014-10-06</td>\n",
       "      <td>16:49:02</td>\n",
       "      <td>12.3</td>\n",
       "      <td>cgm</td>\n",
       "      <td>NaN</td>\n",
       "    </tr>\n",
       "    <tr>\n",
       "      <th>1437</th>\n",
       "      <td>2014-10-06</td>\n",
       "      <td>16:54:02</td>\n",
       "      <td>12.1</td>\n",
       "      <td>cgm</td>\n",
       "      <td>NaN</td>\n",
       "    </tr>\n",
       "  </tbody>\n",
       "</table>\n",
       "<p>1438 rows × 5 columns</p>\n",
       "</div>"
      ],
      "text/plain": [
       "            date      time  glucose    type  comments\n",
       "0     2014-10-01  19:14:00     10.3     cgm       NaN\n",
       "1     2014-10-01  19:19:00      9.9     cgm       NaN\n",
       "2     2014-10-01  19:23:00      9.4  manual       NaN\n",
       "3     2014-10-01  19:24:00      9.8     cgm       NaN\n",
       "4     2014-10-01  19:29:00      9.6     cgm       NaN\n",
       "...          ...       ...      ...     ...       ...\n",
       "1433  2014-10-06  16:34:02     12.3     cgm       NaN\n",
       "1434  2014-10-06  16:39:02     12.5     cgm       NaN\n",
       "1435  2014-10-06  16:44:02     12.5     cgm       NaN\n",
       "1436  2014-10-06  16:49:02     12.3     cgm       NaN\n",
       "1437  2014-10-06  16:54:02     12.1     cgm       NaN\n",
       "\n",
       "[1438 rows x 5 columns]"
      ]
     },
     "execution_count": 4,
     "metadata": {},
     "output_type": "execute_result"
    }
   ],
   "source": [
    "p1 = pd.read_csv(\"data/glucose_01.csv\")\n",
    "p1\n"
   ]
  },
  {
   "cell_type": "code",
   "execution_count": 5,
   "metadata": {},
   "outputs": [
    {
     "data": {
      "text/plain": [
       "(1438, 5)"
      ]
     },
     "execution_count": 5,
     "metadata": {},
     "output_type": "execute_result"
    }
   ],
   "source": [
    "p1.shape"
   ]
  },
  {
   "cell_type": "code",
   "execution_count": 6,
   "metadata": {},
   "outputs": [
    {
     "data": {
      "text/html": [
       "<div>\n",
       "<style scoped>\n",
       "    .dataframe tbody tr th:only-of-type {\n",
       "        vertical-align: middle;\n",
       "    }\n",
       "\n",
       "    .dataframe tbody tr th {\n",
       "        vertical-align: top;\n",
       "    }\n",
       "\n",
       "    .dataframe thead th {\n",
       "        text-align: right;\n",
       "    }\n",
       "</style>\n",
       "<table border=\"1\" class=\"dataframe\">\n",
       "  <thead>\n",
       "    <tr style=\"text-align: right;\">\n",
       "      <th></th>\n",
       "      <th>glucose</th>\n",
       "      <th>comments</th>\n",
       "    </tr>\n",
       "  </thead>\n",
       "  <tbody>\n",
       "    <tr>\n",
       "      <th>count</th>\n",
       "      <td>1438.000000</td>\n",
       "      <td>0.0</td>\n",
       "    </tr>\n",
       "    <tr>\n",
       "      <th>mean</th>\n",
       "      <td>10.194089</td>\n",
       "      <td>NaN</td>\n",
       "    </tr>\n",
       "    <tr>\n",
       "      <th>std</th>\n",
       "      <td>4.869156</td>\n",
       "      <td>NaN</td>\n",
       "    </tr>\n",
       "    <tr>\n",
       "      <th>min</th>\n",
       "      <td>2.200000</td>\n",
       "      <td>NaN</td>\n",
       "    </tr>\n",
       "    <tr>\n",
       "      <th>25%</th>\n",
       "      <td>6.900000</td>\n",
       "      <td>NaN</td>\n",
       "    </tr>\n",
       "    <tr>\n",
       "      <th>50%</th>\n",
       "      <td>9.600000</td>\n",
       "      <td>NaN</td>\n",
       "    </tr>\n",
       "    <tr>\n",
       "      <th>75%</th>\n",
       "      <td>13.000000</td>\n",
       "      <td>NaN</td>\n",
       "    </tr>\n",
       "    <tr>\n",
       "      <th>max</th>\n",
       "      <td>22.200000</td>\n",
       "      <td>NaN</td>\n",
       "    </tr>\n",
       "  </tbody>\n",
       "</table>\n",
       "</div>"
      ],
      "text/plain": [
       "           glucose  comments\n",
       "count  1438.000000       0.0\n",
       "mean     10.194089       NaN\n",
       "std       4.869156       NaN\n",
       "min       2.200000       NaN\n",
       "25%       6.900000       NaN\n",
       "50%       9.600000       NaN\n",
       "75%      13.000000       NaN\n",
       "max      22.200000       NaN"
      ]
     },
     "execution_count": 6,
     "metadata": {},
     "output_type": "execute_result"
    }
   ],
   "source": [
    "p1.describe()"
   ]
  },
  {
   "cell_type": "code",
   "execution_count": 7,
   "metadata": {},
   "outputs": [
    {
     "name": "stdout",
     "output_type": "stream",
     "text": [
      "<class 'pandas.core.frame.DataFrame'>\n",
      "RangeIndex: 1438 entries, 0 to 1437\n",
      "Data columns (total 5 columns):\n",
      " #   Column    Non-Null Count  Dtype  \n",
      "---  ------    --------------  -----  \n",
      " 0   date      1438 non-null   object \n",
      " 1   time      1438 non-null   object \n",
      " 2   glucose   1438 non-null   float64\n",
      " 3   type      1438 non-null   object \n",
      " 4   comments  0 non-null      float64\n",
      "dtypes: float64(2), object(3)\n",
      "memory usage: 56.3+ KB\n"
     ]
    }
   ],
   "source": [
    "p1.info()"
   ]
  },
  {
   "cell_type": "code",
   "execution_count": 8,
   "metadata": {},
   "outputs": [
    {
     "name": "stdout",
     "output_type": "stream",
     "text": [
      "date           0\n",
      "time           0\n",
      "glucose        0\n",
      "type           0\n",
      "comments    1438\n",
      "dtype: int64\n"
     ]
    }
   ],
   "source": [
    "print(p1.isnull().sum())"
   ]
  },
  {
   "cell_type": "code",
   "execution_count": 9,
   "metadata": {},
   "outputs": [
    {
     "data": {
      "text/html": [
       "<div>\n",
       "<style scoped>\n",
       "    .dataframe tbody tr th:only-of-type {\n",
       "        vertical-align: middle;\n",
       "    }\n",
       "\n",
       "    .dataframe tbody tr th {\n",
       "        vertical-align: top;\n",
       "    }\n",
       "\n",
       "    .dataframe thead th {\n",
       "        text-align: right;\n",
       "    }\n",
       "</style>\n",
       "<table border=\"1\" class=\"dataframe\">\n",
       "  <thead>\n",
       "    <tr style=\"text-align: right;\">\n",
       "      <th></th>\n",
       "      <th>date</th>\n",
       "      <th>time</th>\n",
       "      <th>glucose</th>\n",
       "      <th>type</th>\n",
       "      <th>comments</th>\n",
       "      <th>datetime</th>\n",
       "    </tr>\n",
       "  </thead>\n",
       "  <tbody>\n",
       "    <tr>\n",
       "      <th>0</th>\n",
       "      <td>2014-10-01</td>\n",
       "      <td>19:14:00</td>\n",
       "      <td>185.5854</td>\n",
       "      <td>cgm</td>\n",
       "      <td>NaN</td>\n",
       "      <td>2014-10-01 19:14:00</td>\n",
       "    </tr>\n",
       "    <tr>\n",
       "      <th>1</th>\n",
       "      <td>2014-10-01</td>\n",
       "      <td>19:19:00</td>\n",
       "      <td>178.3782</td>\n",
       "      <td>cgm</td>\n",
       "      <td>NaN</td>\n",
       "      <td>2014-10-01 19:19:00</td>\n",
       "    </tr>\n",
       "    <tr>\n",
       "      <th>2</th>\n",
       "      <td>2014-10-01</td>\n",
       "      <td>19:23:00</td>\n",
       "      <td>169.3692</td>\n",
       "      <td>manual</td>\n",
       "      <td>NaN</td>\n",
       "      <td>2014-10-01 19:23:00</td>\n",
       "    </tr>\n",
       "    <tr>\n",
       "      <th>3</th>\n",
       "      <td>2014-10-01</td>\n",
       "      <td>19:24:00</td>\n",
       "      <td>176.5764</td>\n",
       "      <td>cgm</td>\n",
       "      <td>NaN</td>\n",
       "      <td>2014-10-01 19:24:00</td>\n",
       "    </tr>\n",
       "    <tr>\n",
       "      <th>4</th>\n",
       "      <td>2014-10-01</td>\n",
       "      <td>19:29:00</td>\n",
       "      <td>172.9728</td>\n",
       "      <td>cgm</td>\n",
       "      <td>NaN</td>\n",
       "      <td>2014-10-01 19:29:00</td>\n",
       "    </tr>\n",
       "    <tr>\n",
       "      <th>...</th>\n",
       "      <td>...</td>\n",
       "      <td>...</td>\n",
       "      <td>...</td>\n",
       "      <td>...</td>\n",
       "      <td>...</td>\n",
       "      <td>...</td>\n",
       "    </tr>\n",
       "    <tr>\n",
       "      <th>1433</th>\n",
       "      <td>2014-10-06</td>\n",
       "      <td>16:34:02</td>\n",
       "      <td>221.6214</td>\n",
       "      <td>cgm</td>\n",
       "      <td>NaN</td>\n",
       "      <td>2014-10-06 16:34:02</td>\n",
       "    </tr>\n",
       "    <tr>\n",
       "      <th>1434</th>\n",
       "      <td>2014-10-06</td>\n",
       "      <td>16:39:02</td>\n",
       "      <td>225.2250</td>\n",
       "      <td>cgm</td>\n",
       "      <td>NaN</td>\n",
       "      <td>2014-10-06 16:39:02</td>\n",
       "    </tr>\n",
       "    <tr>\n",
       "      <th>1435</th>\n",
       "      <td>2014-10-06</td>\n",
       "      <td>16:44:02</td>\n",
       "      <td>225.2250</td>\n",
       "      <td>cgm</td>\n",
       "      <td>NaN</td>\n",
       "      <td>2014-10-06 16:44:02</td>\n",
       "    </tr>\n",
       "    <tr>\n",
       "      <th>1436</th>\n",
       "      <td>2014-10-06</td>\n",
       "      <td>16:49:02</td>\n",
       "      <td>221.6214</td>\n",
       "      <td>cgm</td>\n",
       "      <td>NaN</td>\n",
       "      <td>2014-10-06 16:49:02</td>\n",
       "    </tr>\n",
       "    <tr>\n",
       "      <th>1437</th>\n",
       "      <td>2014-10-06</td>\n",
       "      <td>16:54:02</td>\n",
       "      <td>218.0178</td>\n",
       "      <td>cgm</td>\n",
       "      <td>NaN</td>\n",
       "      <td>2014-10-06 16:54:02</td>\n",
       "    </tr>\n",
       "  </tbody>\n",
       "</table>\n",
       "<p>1438 rows × 6 columns</p>\n",
       "</div>"
      ],
      "text/plain": [
       "            date      time   glucose    type  comments            datetime\n",
       "0     2014-10-01  19:14:00  185.5854     cgm       NaN 2014-10-01 19:14:00\n",
       "1     2014-10-01  19:19:00  178.3782     cgm       NaN 2014-10-01 19:19:00\n",
       "2     2014-10-01  19:23:00  169.3692  manual       NaN 2014-10-01 19:23:00\n",
       "3     2014-10-01  19:24:00  176.5764     cgm       NaN 2014-10-01 19:24:00\n",
       "4     2014-10-01  19:29:00  172.9728     cgm       NaN 2014-10-01 19:29:00\n",
       "...          ...       ...       ...     ...       ...                 ...\n",
       "1433  2014-10-06  16:34:02  221.6214     cgm       NaN 2014-10-06 16:34:02\n",
       "1434  2014-10-06  16:39:02  225.2250     cgm       NaN 2014-10-06 16:39:02\n",
       "1435  2014-10-06  16:44:02  225.2250     cgm       NaN 2014-10-06 16:44:02\n",
       "1436  2014-10-06  16:49:02  221.6214     cgm       NaN 2014-10-06 16:49:02\n",
       "1437  2014-10-06  16:54:02  218.0178     cgm       NaN 2014-10-06 16:54:02\n",
       "\n",
       "[1438 rows x 6 columns]"
      ]
     },
     "execution_count": 9,
     "metadata": {},
     "output_type": "execute_result"
    }
   ],
   "source": [
    "#pasar unidades de mmol/L a mg/dL\n",
    "p1['glucose'] = p1['glucose'].astype(float)*18.018\n",
    "#Columna datetime con formato datetime\n",
    "datetime = p1.date + ' ' + p1.time\n",
    "p1['datetime'] = pd.to_datetime(datetime, format= '%Y/%m/%d %H:%M:%S', yearfirst=True)\n",
    "p1"
   ]
  },
  {
   "cell_type": "code",
   "execution_count": 10,
   "metadata": {},
   "outputs": [
    {
     "data": {
      "text/html": [
       "<div>\n",
       "<style scoped>\n",
       "    .dataframe tbody tr th:only-of-type {\n",
       "        vertical-align: middle;\n",
       "    }\n",
       "\n",
       "    .dataframe tbody tr th {\n",
       "        vertical-align: top;\n",
       "    }\n",
       "\n",
       "    .dataframe thead th {\n",
       "        text-align: right;\n",
       "    }\n",
       "</style>\n",
       "<table border=\"1\" class=\"dataframe\">\n",
       "  <thead>\n",
       "    <tr style=\"text-align: right;\">\n",
       "      <th></th>\n",
       "      <th>date</th>\n",
       "      <th>time</th>\n",
       "      <th>glucose</th>\n",
       "      <th>type</th>\n",
       "      <th>comments</th>\n",
       "      <th>datetime</th>\n",
       "    </tr>\n",
       "  </thead>\n",
       "  <tbody>\n",
       "    <tr>\n",
       "      <th>0</th>\n",
       "      <td>2014-10-01</td>\n",
       "      <td>19:14:00</td>\n",
       "      <td>185.5854</td>\n",
       "      <td>cgm</td>\n",
       "      <td>NaN</td>\n",
       "      <td>2014-10-01 19:14:00</td>\n",
       "    </tr>\n",
       "    <tr>\n",
       "      <th>1</th>\n",
       "      <td>2014-10-01</td>\n",
       "      <td>19:19:00</td>\n",
       "      <td>178.3782</td>\n",
       "      <td>cgm</td>\n",
       "      <td>NaN</td>\n",
       "      <td>2014-10-01 19:19:00</td>\n",
       "    </tr>\n",
       "    <tr>\n",
       "      <th>3</th>\n",
       "      <td>2014-10-01</td>\n",
       "      <td>19:24:00</td>\n",
       "      <td>176.5764</td>\n",
       "      <td>cgm</td>\n",
       "      <td>NaN</td>\n",
       "      <td>2014-10-01 19:24:00</td>\n",
       "    </tr>\n",
       "    <tr>\n",
       "      <th>4</th>\n",
       "      <td>2014-10-01</td>\n",
       "      <td>19:29:00</td>\n",
       "      <td>172.9728</td>\n",
       "      <td>cgm</td>\n",
       "      <td>NaN</td>\n",
       "      <td>2014-10-01 19:29:00</td>\n",
       "    </tr>\n",
       "    <tr>\n",
       "      <th>5</th>\n",
       "      <td>2014-10-01</td>\n",
       "      <td>19:34:00</td>\n",
       "      <td>169.3692</td>\n",
       "      <td>cgm</td>\n",
       "      <td>NaN</td>\n",
       "      <td>2014-10-01 19:34:00</td>\n",
       "    </tr>\n",
       "    <tr>\n",
       "      <th>...</th>\n",
       "      <td>...</td>\n",
       "      <td>...</td>\n",
       "      <td>...</td>\n",
       "      <td>...</td>\n",
       "      <td>...</td>\n",
       "      <td>...</td>\n",
       "    </tr>\n",
       "    <tr>\n",
       "      <th>1433</th>\n",
       "      <td>2014-10-06</td>\n",
       "      <td>16:34:02</td>\n",
       "      <td>221.6214</td>\n",
       "      <td>cgm</td>\n",
       "      <td>NaN</td>\n",
       "      <td>2014-10-06 16:34:02</td>\n",
       "    </tr>\n",
       "    <tr>\n",
       "      <th>1434</th>\n",
       "      <td>2014-10-06</td>\n",
       "      <td>16:39:02</td>\n",
       "      <td>225.2250</td>\n",
       "      <td>cgm</td>\n",
       "      <td>NaN</td>\n",
       "      <td>2014-10-06 16:39:02</td>\n",
       "    </tr>\n",
       "    <tr>\n",
       "      <th>1435</th>\n",
       "      <td>2014-10-06</td>\n",
       "      <td>16:44:02</td>\n",
       "      <td>225.2250</td>\n",
       "      <td>cgm</td>\n",
       "      <td>NaN</td>\n",
       "      <td>2014-10-06 16:44:02</td>\n",
       "    </tr>\n",
       "    <tr>\n",
       "      <th>1436</th>\n",
       "      <td>2014-10-06</td>\n",
       "      <td>16:49:02</td>\n",
       "      <td>221.6214</td>\n",
       "      <td>cgm</td>\n",
       "      <td>NaN</td>\n",
       "      <td>2014-10-06 16:49:02</td>\n",
       "    </tr>\n",
       "    <tr>\n",
       "      <th>1437</th>\n",
       "      <td>2014-10-06</td>\n",
       "      <td>16:54:02</td>\n",
       "      <td>218.0178</td>\n",
       "      <td>cgm</td>\n",
       "      <td>NaN</td>\n",
       "      <td>2014-10-06 16:54:02</td>\n",
       "    </tr>\n",
       "  </tbody>\n",
       "</table>\n",
       "<p>1413 rows × 6 columns</p>\n",
       "</div>"
      ],
      "text/plain": [
       "            date      time   glucose type  comments            datetime\n",
       "0     2014-10-01  19:14:00  185.5854  cgm       NaN 2014-10-01 19:14:00\n",
       "1     2014-10-01  19:19:00  178.3782  cgm       NaN 2014-10-01 19:19:00\n",
       "3     2014-10-01  19:24:00  176.5764  cgm       NaN 2014-10-01 19:24:00\n",
       "4     2014-10-01  19:29:00  172.9728  cgm       NaN 2014-10-01 19:29:00\n",
       "5     2014-10-01  19:34:00  169.3692  cgm       NaN 2014-10-01 19:34:00\n",
       "...          ...       ...       ...  ...       ...                 ...\n",
       "1433  2014-10-06  16:34:02  221.6214  cgm       NaN 2014-10-06 16:34:02\n",
       "1434  2014-10-06  16:39:02  225.2250  cgm       NaN 2014-10-06 16:39:02\n",
       "1435  2014-10-06  16:44:02  225.2250  cgm       NaN 2014-10-06 16:44:02\n",
       "1436  2014-10-06  16:49:02  221.6214  cgm       NaN 2014-10-06 16:49:02\n",
       "1437  2014-10-06  16:54:02  218.0178  cgm       NaN 2014-10-06 16:54:02\n",
       "\n",
       "[1413 rows x 6 columns]"
      ]
     },
     "execution_count": 10,
     "metadata": {},
     "output_type": "execute_result"
    }
   ],
   "source": [
    "# drop duplicates\n",
    "p1.drop_duplicates(inplace=True)\n",
    "#Nos quedamos solo con los medidos por cgm\n",
    "p1 = p1[p1.type=='cgm']\n",
    "p1"
   ]
  },
  {
   "cell_type": "code",
   "execution_count": 11,
   "metadata": {},
   "outputs": [
    {
     "data": {
      "text/plain": [
       "<AxesSubplot:xlabel='datetime', ylabel='glucose'>"
      ]
     },
     "execution_count": 11,
     "metadata": {},
     "output_type": "execute_result"
    },
    {
     "data": {
      "image/png": "[encoded data removed]",
      "text/plain": [
       "<Figure size 864x432 with 1 Axes>"
      ]
     },
     "metadata": {
      "needs_background": "light"
     },
     "output_type": "display_data"
    }
   ],
   "source": [
    "plt.figure(figsize=(12, 6))\n",
    "sns.scatterplot(p1.datetime, p1.glucose)"
   ]
  },
  {
   "cell_type": "code",
   "execution_count": 12,
   "metadata": {},
   "outputs": [
    {
     "data": {
      "text/plain": [
       "<AxesSubplot:xlabel='datetime', ylabel='glucose'>"
      ]
     },
     "execution_count": 12,
     "metadata": {},
     "output_type": "execute_result"
    },
    {
     "data": {
      "image/png": "[encoded data removed]",
      "text/plain": [
       "<Figure size 864x432 with 1 Axes>"
      ]
     },
     "metadata": {
      "needs_background": "light"
     },
     "output_type": "display_data"
    }
   ],
   "source": [
    "datos = p1.set_index('datetime')\n",
    "datos = datos.asfreq(freq='5min', method=\"bfill\")\n",
    "datos = datos[['glucose']]\n",
    "datos = datos.sort_index()\n",
    "plt.figure(figsize=(12, 6))\n",
    "sns.scatterplot(datos.index, datos.glucose)"
   ]
  },
  {
   "cell_type": "code",
   "execution_count": 13,
   "metadata": {},
   "outputs": [
    {
     "data": {
      "text/plain": [
       "True"
      ]
     },
     "execution_count": 13,
     "metadata": {},
     "output_type": "execute_result"
    }
   ],
   "source": [
    "# Verificar que un índice temporal está completo\n",
    "# ==============================================================================\n",
    "(datos.index == pd.date_range(start=datos.index.min(),\n",
    "                              end=datos.index.max(),\n",
    "                              freq=datos.index.freq)).all()"
   ]
  },
  {
   "cell_type": "markdown",
   "metadata": {},
   "source": [
    "# ML"
   ]
  },
  {
   "cell_type": "code",
   "execution_count": 14,
   "metadata": {},
   "outputs": [],
   "source": [
    "datos = datos[['glucose']]"
   ]
  },
  {
   "cell_type": "code",
   "execution_count": 15,
   "metadata": {},
   "outputs": [
    {
     "data": {
      "text/html": [
       "<div>\n",
       "<style scoped>\n",
       "    .dataframe tbody tr th:only-of-type {\n",
       "        vertical-align: middle;\n",
       "    }\n",
       "\n",
       "    .dataframe tbody tr th {\n",
       "        vertical-align: top;\n",
       "    }\n",
       "\n",
       "    .dataframe thead th {\n",
       "        text-align: right;\n",
       "    }\n",
       "</style>\n",
       "<table border=\"1\" class=\"dataframe\">\n",
       "  <thead>\n",
       "    <tr style=\"text-align: right;\">\n",
       "      <th></th>\n",
       "      <th>glucose</th>\n",
       "      <th>s-24</th>\n",
       "      <th>c-24</th>\n",
       "      <th>s-48</th>\n",
       "      <th>c-48</th>\n",
       "    </tr>\n",
       "    <tr>\n",
       "      <th>datetime</th>\n",
       "      <th></th>\n",
       "      <th></th>\n",
       "      <th></th>\n",
       "      <th></th>\n",
       "      <th></th>\n",
       "    </tr>\n",
       "  </thead>\n",
       "  <tbody>\n",
       "    <tr>\n",
       "      <th>2014-10-01 19:14:00</th>\n",
       "      <td>185.5854</td>\n",
       "      <td>0.000000</td>\n",
       "      <td>1.000000e+00</td>\n",
       "      <td>0.000000</td>\n",
       "      <td>1.000000</td>\n",
       "    </tr>\n",
       "    <tr>\n",
       "      <th>2014-10-01 19:19:00</th>\n",
       "      <td>178.3782</td>\n",
       "      <td>0.258819</td>\n",
       "      <td>9.659258e-01</td>\n",
       "      <td>0.130526</td>\n",
       "      <td>0.991445</td>\n",
       "    </tr>\n",
       "    <tr>\n",
       "      <th>2014-10-01 19:24:00</th>\n",
       "      <td>176.5764</td>\n",
       "      <td>0.500000</td>\n",
       "      <td>8.660254e-01</td>\n",
       "      <td>0.258819</td>\n",
       "      <td>0.965926</td>\n",
       "    </tr>\n",
       "    <tr>\n",
       "      <th>2014-10-01 19:29:00</th>\n",
       "      <td>172.9728</td>\n",
       "      <td>0.707107</td>\n",
       "      <td>7.071068e-01</td>\n",
       "      <td>0.382683</td>\n",
       "      <td>0.923880</td>\n",
       "    </tr>\n",
       "    <tr>\n",
       "      <th>2014-10-01 19:34:00</th>\n",
       "      <td>169.3692</td>\n",
       "      <td>0.866025</td>\n",
       "      <td>5.000000e-01</td>\n",
       "      <td>0.500000</td>\n",
       "      <td>0.866025</td>\n",
       "    </tr>\n",
       "    <tr>\n",
       "      <th>...</th>\n",
       "      <td>...</td>\n",
       "      <td>...</td>\n",
       "      <td>...</td>\n",
       "      <td>...</td>\n",
       "      <td>...</td>\n",
       "    </tr>\n",
       "    <tr>\n",
       "      <th>2014-10-06 16:34:00</th>\n",
       "      <td>221.6214</td>\n",
       "      <td>-0.866025</td>\n",
       "      <td>-5.000000e-01</td>\n",
       "      <td>0.866025</td>\n",
       "      <td>-0.500000</td>\n",
       "    </tr>\n",
       "    <tr>\n",
       "      <th>2014-10-06 16:39:00</th>\n",
       "      <td>225.2250</td>\n",
       "      <td>-0.965926</td>\n",
       "      <td>-2.588190e-01</td>\n",
       "      <td>0.793353</td>\n",
       "      <td>-0.608761</td>\n",
       "    </tr>\n",
       "    <tr>\n",
       "      <th>2014-10-06 16:44:00</th>\n",
       "      <td>225.2250</td>\n",
       "      <td>-1.000000</td>\n",
       "      <td>-1.616596e-14</td>\n",
       "      <td>0.707107</td>\n",
       "      <td>-0.707107</td>\n",
       "    </tr>\n",
       "    <tr>\n",
       "      <th>2014-10-06 16:49:00</th>\n",
       "      <td>221.6214</td>\n",
       "      <td>-0.965926</td>\n",
       "      <td>2.588190e-01</td>\n",
       "      <td>0.608761</td>\n",
       "      <td>-0.793353</td>\n",
       "    </tr>\n",
       "    <tr>\n",
       "      <th>2014-10-06 16:54:00</th>\n",
       "      <td>218.0178</td>\n",
       "      <td>-0.866025</td>\n",
       "      <td>5.000000e-01</td>\n",
       "      <td>0.500000</td>\n",
       "      <td>-0.866025</td>\n",
       "    </tr>\n",
       "  </tbody>\n",
       "</table>\n",
       "<p>1413 rows × 5 columns</p>\n",
       "</div>"
      ],
      "text/plain": [
       "                      glucose      s-24          c-24      s-48      c-48\n",
       "datetime                                                                 \n",
       "2014-10-01 19:14:00  185.5854  0.000000  1.000000e+00  0.000000  1.000000\n",
       "2014-10-01 19:19:00  178.3782  0.258819  9.659258e-01  0.130526  0.991445\n",
       "2014-10-01 19:24:00  176.5764  0.500000  8.660254e-01  0.258819  0.965926\n",
       "2014-10-01 19:29:00  172.9728  0.707107  7.071068e-01  0.382683  0.923880\n",
       "2014-10-01 19:34:00  169.3692  0.866025  5.000000e-01  0.500000  0.866025\n",
       "...                       ...       ...           ...       ...       ...\n",
       "2014-10-06 16:34:00  221.6214 -0.866025 -5.000000e-01  0.866025 -0.500000\n",
       "2014-10-06 16:39:00  225.2250 -0.965926 -2.588190e-01  0.793353 -0.608761\n",
       "2014-10-06 16:44:00  225.2250 -1.000000 -1.616596e-14  0.707107 -0.707107\n",
       "2014-10-06 16:49:00  221.6214 -0.965926  2.588190e-01  0.608761 -0.793353\n",
       "2014-10-06 16:54:00  218.0178 -0.866025  5.000000e-01  0.500000 -0.866025\n",
       "\n",
       "[1413 rows x 5 columns]"
      ]
     },
     "execution_count": 15,
     "metadata": {},
     "output_type": "execute_result"
    }
   ],
   "source": [
    "# Seasonal features: We will add daily and two days season\n",
    "# sin(2*pi*x/period)\n",
    "for period in [24,24*2]:\n",
    "    datos[f\"s-{period}\"]=np.sin(2*np.pi*np.arange(len(datos))/period)\n",
    "    datos[f\"c-{period}\"]=np.cos(2*np.pi*np.arange(len(datos))/period)\n",
    "datos"
   ]
  },
  {
   "cell_type": "code",
   "execution_count": 16,
   "metadata": {},
   "outputs": [
    {
     "data": {
      "text/plain": [
       "Index(['glucose', 's-24', 'c-24', 's-48', 'c-48'], dtype='object')"
      ]
     },
     "execution_count": 16,
     "metadata": {},
     "output_type": "execute_result"
    }
   ],
   "source": [
    "datos.columns"
   ]
  },
  {
   "cell_type": "code",
   "execution_count": 17,
   "metadata": {},
   "outputs": [],
   "source": [
    "X = datos[['s-24', 'c-24', 's-48', 'c-48']]\n",
    "y = datos['glucose']"
   ]
  },
  {
   "cell_type": "code",
   "execution_count": 18,
   "metadata": {},
   "outputs": [
    {
     "data": {
      "text/plain": [
       "Timestamp('2014-10-01 19:14:00', freq='5T')"
      ]
     },
     "execution_count": 18,
     "metadata": {},
     "output_type": "execute_result"
    }
   ],
   "source": [
    "# Minimum Datetime\n",
    "datos.index.min()"
   ]
  },
  {
   "cell_type": "code",
   "execution_count": 19,
   "metadata": {},
   "outputs": [
    {
     "data": {
      "text/plain": [
       "Timestamp('2014-10-06 16:54:00', freq='5T')"
      ]
     },
     "execution_count": 19,
     "metadata": {},
     "output_type": "execute_result"
    }
   ],
   "source": [
    "# Minimum Datetime\n",
    "datos.index.max()"
   ]
  },
  {
   "cell_type": "code",
   "execution_count": 20,
   "metadata": {},
   "outputs": [
    {
     "data": {
      "image/png": "[encoded data removed]",
      "text/plain": [
       "<Figure size 648x288 with 1 Axes>"
      ]
     },
     "metadata": {
      "needs_background": "light"
     },
     "output_type": "display_data"
    }
   ],
   "source": [
    "# Separación datos train-test\n",
    "# ==============================================================================\n",
    "steps = 200\n",
    "datos_train = datos[:-steps]\n",
    "datos_test  = datos[-steps:]\n",
    "\n",
    "fig, ax=plt.subplots(figsize=(9, 4))\n",
    "datos_train['glucose'].plot(ax=ax, label='train')\n",
    "datos_test['glucose'].plot(ax=ax, label='test')\n",
    "ax.legend();"
   ]
  },
  {
   "cell_type": "code",
   "execution_count": 21,
   "metadata": {},
   "outputs": [],
   "source": [
    "# Train / Test possibility 1\n",
    "# We take last 1 day (24)\n",
    "# !!!!!!! Gridsearch (and cross_val) in sklearn uses POSITIONAL index, not dataframe index\n",
    "steps=200\n",
    "train_index = np.arange(len(X.index))[:-steps]\n",
    "test_index = np.arange(len(X.index))[-steps:]"
   ]
  },
  {
   "cell_type": "code",
   "execution_count": 22,
   "metadata": {},
   "outputs": [
    {
     "data": {
      "text/plain": [
       "GridSearchCV(cv=[(array([   0,    1,    2, ..., 1210, 1211, 1212]),\n",
       "                  array([1213, 1214, 1215, 1216, 1217, 1218, 1219, 1220, 1221, 1222, 1223,\n",
       "       1224, 1225, 1226, 1227, 1228, 1229, 1230, 1231, 1232, 1233, 1234,\n",
       "       1235, 1236, 1237, 1238, 1239, 1240, 1241, 1242, 1243, 1244, 1245,\n",
       "       1246, 1247, 1248, 1249, 1250, 1251, 1252, 1253, 1254, 1255, 1256,\n",
       "       1257, 1258, 1259, 1260, 1261, 1262, 1263, 1264, 1265, 1266, 1267,\n",
       "       1268, 1269, 1270, 1...\n",
       "       1367, 1368, 1369, 1370, 1371, 1372, 1373, 1374, 1375, 1376, 1377,\n",
       "       1378, 1379, 1380, 1381, 1382, 1383, 1384, 1385, 1386, 1387, 1388,\n",
       "       1389, 1390, 1391, 1392, 1393, 1394, 1395, 1396, 1397, 1398, 1399,\n",
       "       1400, 1401, 1402, 1403, 1404, 1405, 1406, 1407, 1408, 1409, 1410,\n",
       "       1411, 1412]))],\n",
       "             estimator=DecisionTreeRegressor(),\n",
       "             param_grid={'max_depth': array([ 2,  3,  4,  5,  6,  7,  8,  9, 10]),\n",
       "                         'min_samples_leaf': array([10, 25, 40, 55, 70, 85])},\n",
       "             scoring='neg_mean_absolute_error')"
      ]
     },
     "execution_count": 22,
     "metadata": {},
     "output_type": "execute_result"
    }
   ],
   "source": [
    "reg_gd = GridSearchCV(DecisionTreeRegressor(),\n",
    "                      param_grid={\"max_depth\":np.arange(2,11),\n",
    "                                  \"min_samples_leaf\":np.arange(10,100,15)},\n",
    "                      scoring=\"neg_mean_absolute_error\",\n",
    "                      cv=[(train_index,test_index)])\n",
    "reg_gd.fit(X,y)"
   ]
  },
  {
   "cell_type": "code",
   "execution_count": 23,
   "metadata": {},
   "outputs": [
    {
     "data": {
      "text/plain": [
       "{'max_depth': 3, 'min_samples_leaf': 40}"
      ]
     },
     "execution_count": 23,
     "metadata": {},
     "output_type": "execute_result"
    }
   ],
   "source": [
    "reg_gd.best_params_\n"
   ]
  },
  {
   "cell_type": "code",
   "execution_count": 24,
   "metadata": {},
   "outputs": [
    {
     "data": {
      "text/plain": [
       "-59.709169740833076"
      ]
     },
     "execution_count": 24,
     "metadata": {},
     "output_type": "execute_result"
    }
   ],
   "source": [
    "reg_gd.best_score_"
   ]
  },
  {
   "cell_type": "code",
   "execution_count": 25,
   "metadata": {},
   "outputs": [],
   "source": [
    "X = datos_test[['s-24', 'c-24', 's-48', 'c-48']]\n",
    "y = datos_test['glucose']"
   ]
  },
  {
   "cell_type": "markdown",
   "metadata": {},
   "source": [
    "Random Forest"
   ]
  },
  {
   "cell_type": "code",
   "execution_count": 26,
   "metadata": {},
   "outputs": [
    {
     "data": {
      "text/plain": [
       "RandomForestRegressor(max_depth=10, n_estimators=500, random_state=123)"
      ]
     },
     "execution_count": 26,
     "metadata": {},
     "output_type": "execute_result"
    }
   ],
   "source": [
    "regressor = RandomForestRegressor(max_depth=10, n_estimators=500, random_state=123)\n",
    "regressor.fit(X,y)"
   ]
  },
  {
   "cell_type": "code",
   "execution_count": 27,
   "metadata": {},
   "outputs": [
    {
     "data": {
      "text/plain": [
       "datetime\n",
       "2014-10-06 00:19:00    148.287997\n",
       "2014-10-06 00:24:00    145.891742\n",
       "2014-10-06 00:29:00    144.266531\n",
       "2014-10-06 00:34:00    143.113099\n",
       "2014-10-06 00:39:00    144.189619\n",
       "Freq: 5T, dtype: float64"
      ]
     },
     "execution_count": 27,
     "metadata": {},
     "output_type": "execute_result"
    }
   ],
   "source": [
    "steps = 36\n",
    "predicciones = regressor.predict(X)\n",
    "# Se añade el índice temporal a las predicciones\n",
    "predicciones = pd.Series(data=predicciones, index=datos_test.index)\n",
    "predicciones.head()"
   ]
  },
  {
   "cell_type": "code",
   "execution_count": 28,
   "metadata": {},
   "outputs": [
    {
     "data": {
      "image/png": "[encoded data removed]",
      "text/plain": [
       "<Figure size 648x288 with 1 Axes>"
      ]
     },
     "metadata": {
      "needs_background": "light"
     },
     "output_type": "display_data"
    }
   ],
   "source": [
    "# Gráfico\n",
    "# ==============================================================================\n",
    "fig, ax = plt.subplots(figsize=(9, 4))\n",
    "datos_train['glucose'].plot(ax=ax, label='train')\n",
    "datos_test['glucose'].plot(ax=ax, label='test')\n",
    "predicciones.plot(ax=ax, label='predicciones')\n",
    "ax.legend();"
   ]
  },
  {
   "cell_type": "markdown",
   "metadata": {},
   "source": [
    "**Series temporales**"
   ]
  },
  {
   "cell_type": "code",
   "execution_count": 34,
   "metadata": {},
   "outputs": [
    {
     "data": {
      "text/html": [
       "<div>\n",
       "<style scoped>\n",
       "    .dataframe tbody tr th:only-of-type {\n",
       "        vertical-align: middle;\n",
       "    }\n",
       "\n",
       "    .dataframe tbody tr th {\n",
       "        vertical-align: top;\n",
       "    }\n",
       "\n",
       "    .dataframe thead th {\n",
       "        text-align: right;\n",
       "    }\n",
       "</style>\n",
       "<table border=\"1\" class=\"dataframe\">\n",
       "  <thead>\n",
       "    <tr style=\"text-align: right;\">\n",
       "      <th></th>\n",
       "      <th>glucose</th>\n",
       "    </tr>\n",
       "    <tr>\n",
       "      <th>datetime</th>\n",
       "      <th></th>\n",
       "    </tr>\n",
       "  </thead>\n",
       "  <tbody>\n",
       "    <tr>\n",
       "      <th>2014-10-01 19:14:00</th>\n",
       "      <td>185.5854</td>\n",
       "    </tr>\n",
       "    <tr>\n",
       "      <th>2014-10-01 19:19:00</th>\n",
       "      <td>178.3782</td>\n",
       "    </tr>\n",
       "    <tr>\n",
       "      <th>2014-10-01 19:24:00</th>\n",
       "      <td>176.5764</td>\n",
       "    </tr>\n",
       "    <tr>\n",
       "      <th>2014-10-01 19:29:00</th>\n",
       "      <td>172.9728</td>\n",
       "    </tr>\n",
       "    <tr>\n",
       "      <th>2014-10-01 19:34:00</th>\n",
       "      <td>169.3692</td>\n",
       "    </tr>\n",
       "    <tr>\n",
       "      <th>...</th>\n",
       "      <td>...</td>\n",
       "    </tr>\n",
       "    <tr>\n",
       "      <th>2014-10-06 16:34:00</th>\n",
       "      <td>221.6214</td>\n",
       "    </tr>\n",
       "    <tr>\n",
       "      <th>2014-10-06 16:39:00</th>\n",
       "      <td>225.2250</td>\n",
       "    </tr>\n",
       "    <tr>\n",
       "      <th>2014-10-06 16:44:00</th>\n",
       "      <td>225.2250</td>\n",
       "    </tr>\n",
       "    <tr>\n",
       "      <th>2014-10-06 16:49:00</th>\n",
       "      <td>221.6214</td>\n",
       "    </tr>\n",
       "    <tr>\n",
       "      <th>2014-10-06 16:54:00</th>\n",
       "      <td>218.0178</td>\n",
       "    </tr>\n",
       "  </tbody>\n",
       "</table>\n",
       "<p>1413 rows × 1 columns</p>\n",
       "</div>"
      ],
      "text/plain": [
       "                      glucose\n",
       "datetime                     \n",
       "2014-10-01 19:14:00  185.5854\n",
       "2014-10-01 19:19:00  178.3782\n",
       "2014-10-01 19:24:00  176.5764\n",
       "2014-10-01 19:29:00  172.9728\n",
       "2014-10-01 19:34:00  169.3692\n",
       "...                       ...\n",
       "2014-10-06 16:34:00  221.6214\n",
       "2014-10-06 16:39:00  225.2250\n",
       "2014-10-06 16:44:00  225.2250\n",
       "2014-10-06 16:49:00  221.6214\n",
       "2014-10-06 16:54:00  218.0178\n",
       "\n",
       "[1413 rows x 1 columns]"
      ]
     },
     "execution_count": 34,
     "metadata": {},
     "output_type": "execute_result"
    }
   ],
   "source": [
    "df_g = p1.set_index('datetime')\n",
    "df_g = df_g.asfreq(freq='5min', method=\"bfill\")\n",
    "df_g = df_g[['glucose']]\n",
    "df_g = df_g.sort_index()\n",
    "df_g"
   ]
  },
  {
   "cell_type": "code",
   "execution_count": 35,
   "metadata": {},
   "outputs": [
    {
     "data": {
      "image/png": "[encoded data removed]",
      "text/plain": [
       "<Figure size 432x288 with 1 Axes>"
      ]
     },
     "metadata": {
      "needs_background": "light"
     },
     "output_type": "display_data"
    }
   ],
   "source": [
    "import statsmodels.graphics.tsaplots as sgt\n",
    "sgt.plot_acf(df_g, lags=50, zero=False)\n",
    "plt.title(\"ACF\")\n",
    "plt.show()"
   ]
  },
  {
   "cell_type": "code",
   "execution_count": 39,
   "metadata": {},
   "outputs": [
    {
     "data": {
      "text/html": [
       "<div>\n",
       "<style scoped>\n",
       "    .dataframe tbody tr th:only-of-type {\n",
       "        vertical-align: middle;\n",
       "    }\n",
       "\n",
       "    .dataframe tbody tr th {\n",
       "        vertical-align: top;\n",
       "    }\n",
       "\n",
       "    .dataframe thead th {\n",
       "        text-align: right;\n",
       "    }\n",
       "</style>\n",
       "<table border=\"1\" class=\"dataframe\">\n",
       "  <thead>\n",
       "    <tr style=\"text-align: right;\">\n",
       "      <th></th>\n",
       "      <th>glucose</th>\n",
       "      <th>lag10</th>\n",
       "      <th>lag11</th>\n",
       "      <th>lag12</th>\n",
       "      <th>lag30</th>\n",
       "      <th>lag35</th>\n",
       "    </tr>\n",
       "    <tr>\n",
       "      <th>datetime</th>\n",
       "      <th></th>\n",
       "      <th></th>\n",
       "      <th></th>\n",
       "      <th></th>\n",
       "      <th></th>\n",
       "      <th></th>\n",
       "    </tr>\n",
       "  </thead>\n",
       "  <tbody>\n",
       "    <tr>\n",
       "      <th>2014-10-01 22:09:00</th>\n",
       "      <td>140.5404</td>\n",
       "      <td>149.5494</td>\n",
       "      <td>149.5494</td>\n",
       "      <td>149.5494</td>\n",
       "      <td>165.7656</td>\n",
       "      <td>185.5854</td>\n",
       "    </tr>\n",
       "    <tr>\n",
       "      <th>2014-10-01 22:14:00</th>\n",
       "      <td>144.1440</td>\n",
       "      <td>147.7476</td>\n",
       "      <td>149.5494</td>\n",
       "      <td>149.5494</td>\n",
       "      <td>160.3602</td>\n",
       "      <td>178.3782</td>\n",
       "    </tr>\n",
       "    <tr>\n",
       "      <th>2014-10-01 22:19:00</th>\n",
       "      <td>149.5494</td>\n",
       "      <td>144.1440</td>\n",
       "      <td>147.7476</td>\n",
       "      <td>149.5494</td>\n",
       "      <td>156.7566</td>\n",
       "      <td>176.5764</td>\n",
       "    </tr>\n",
       "    <tr>\n",
       "      <th>2014-10-01 22:24:00</th>\n",
       "      <td>153.1530</td>\n",
       "      <td>142.3422</td>\n",
       "      <td>144.1440</td>\n",
       "      <td>147.7476</td>\n",
       "      <td>151.3512</td>\n",
       "      <td>172.9728</td>\n",
       "    </tr>\n",
       "    <tr>\n",
       "      <th>2014-10-01 22:29:00</th>\n",
       "      <td>156.7566</td>\n",
       "      <td>140.5404</td>\n",
       "      <td>142.3422</td>\n",
       "      <td>144.1440</td>\n",
       "      <td>147.7476</td>\n",
       "      <td>169.3692</td>\n",
       "    </tr>\n",
       "  </tbody>\n",
       "</table>\n",
       "</div>"
      ],
      "text/plain": [
       "                      glucose     lag10     lag11     lag12     lag30  \\\n",
       "datetime                                                                \n",
       "2014-10-01 22:09:00  140.5404  149.5494  149.5494  149.5494  165.7656   \n",
       "2014-10-01 22:14:00  144.1440  147.7476  149.5494  149.5494  160.3602   \n",
       "2014-10-01 22:19:00  149.5494  144.1440  147.7476  149.5494  156.7566   \n",
       "2014-10-01 22:24:00  153.1530  142.3422  144.1440  147.7476  151.3512   \n",
       "2014-10-01 22:29:00  156.7566  140.5404  142.3422  144.1440  147.7476   \n",
       "\n",
       "                        lag35  \n",
       "datetime                       \n",
       "2014-10-01 22:09:00  185.5854  \n",
       "2014-10-01 22:14:00  178.3782  \n",
       "2014-10-01 22:19:00  176.5764  \n",
       "2014-10-01 22:24:00  172.9728  \n",
       "2014-10-01 22:29:00  169.3692  "
      ]
     },
     "execution_count": 39,
     "metadata": {},
     "output_type": "execute_result"
    }
   ],
   "source": [
    "df_g['lag10'] = df_g['glucose'].shift(10)\n",
    "df_g['lag11'] = df_g['glucose'].shift(11)\n",
    "df_g['lag12'] = df_g['glucose'].shift(12)\n",
    "df_g['lag30'] = df_g['glucose'].shift(30)\n",
    "df_g['lag35'] = df_g['glucose'].shift(35)\n",
    "df_g.dropna(inplace=True)\n",
    "df_g.head()"
   ]
  },
  {
   "cell_type": "code",
   "execution_count": 41,
   "metadata": {},
   "outputs": [
    {
     "data": {
      "text/plain": [
       "Index(['glucose', 'lag10', 'lag11', 'lag12', 'lag30', 'lag35'], dtype='object')"
      ]
     },
     "execution_count": 41,
     "metadata": {},
     "output_type": "execute_result"
    }
   ],
   "source": [
    "df_g.columns"
   ]
  },
  {
   "cell_type": "code",
   "execution_count": 42,
   "metadata": {},
   "outputs": [],
   "source": [
    "from sklearn.model_selection import train_test_split\n",
    "from sklearn.preprocessing import StandardScaler\n",
    "\n",
    "X,y = df_g[['lag10', 'lag11', 'lag12', 'lag30', 'lag35']], df_g['glucose']\n",
    "\n",
    "\n",
    "X_train, X_test, y_train, y_test = train_test_split(X, y, test_size=.2, random_state=42)"
   ]
  },
  {
   "cell_type": "code",
   "execution_count": 46,
   "metadata": {},
   "outputs": [],
   "source": [
    "scaler = StandardScaler()\n",
    "Scaled_train = scaler.fit_transform(X_train)\n",
    "\n",
    "Scaled_test = scaler.transform(X_test)"
   ]
  },
  {
   "cell_type": "code",
   "execution_count": 43,
   "metadata": {},
   "outputs": [],
   "source": [
    "from sklearn.ensemble import RandomForestRegressor\n",
    "from sklearn.datasets import make_regression"
   ]
  },
  {
   "cell_type": "code",
   "execution_count": 47,
   "metadata": {},
   "outputs": [
    {
     "data": {
      "text/plain": [
       "RandomForestRegressor(max_depth=10, random_state=0)"
      ]
     },
     "execution_count": 47,
     "metadata": {},
     "output_type": "execute_result"
    }
   ],
   "source": [
    "reg = RandomForestRegressor(max_depth=10, random_state=0)\n",
    "reg.fit(Scaled_train,y_train)"
   ]
  },
  {
   "cell_type": "code",
   "execution_count": 48,
   "metadata": {},
   "outputs": [],
   "source": [
    "predictions_rf = reg.predict(Scaled_test)"
   ]
  },
  {
   "cell_type": "code",
   "execution_count": 49,
   "metadata": {},
   "outputs": [
    {
     "data": {
      "text/html": [
       "<div>\n",
       "<style scoped>\n",
       "    .dataframe tbody tr th:only-of-type {\n",
       "        vertical-align: middle;\n",
       "    }\n",
       "\n",
       "    .dataframe tbody tr th {\n",
       "        vertical-align: top;\n",
       "    }\n",
       "\n",
       "    .dataframe thead th {\n",
       "        text-align: right;\n",
       "    }\n",
       "</style>\n",
       "<table border=\"1\" class=\"dataframe\">\n",
       "  <thead>\n",
       "    <tr style=\"text-align: right;\">\n",
       "      <th></th>\n",
       "      <th>glucose</th>\n",
       "      <th>predictions_rf</th>\n",
       "    </tr>\n",
       "    <tr>\n",
       "      <th>datetime</th>\n",
       "      <th></th>\n",
       "      <th></th>\n",
       "    </tr>\n",
       "  </thead>\n",
       "  <tbody>\n",
       "    <tr>\n",
       "      <th>2014-10-03 23:54:00</th>\n",
       "      <td>291.8916</td>\n",
       "      <td>291.213388</td>\n",
       "    </tr>\n",
       "    <tr>\n",
       "      <th>2014-10-04 08:29:00</th>\n",
       "      <td>100.9008</td>\n",
       "      <td>133.756638</td>\n",
       "    </tr>\n",
       "    <tr>\n",
       "      <th>2014-10-06 03:59:00</th>\n",
       "      <td>127.9278</td>\n",
       "      <td>135.401420</td>\n",
       "    </tr>\n",
       "    <tr>\n",
       "      <th>2014-10-05 21:34:00</th>\n",
       "      <td>232.4322</td>\n",
       "      <td>271.043312</td>\n",
       "    </tr>\n",
       "    <tr>\n",
       "      <th>2014-10-04 00:19:00</th>\n",
       "      <td>288.2880</td>\n",
       "      <td>287.470892</td>\n",
       "    </tr>\n",
       "  </tbody>\n",
       "</table>\n",
       "</div>"
      ],
      "text/plain": [
       "                      glucose  predictions_rf\n",
       "datetime                                     \n",
       "2014-10-03 23:54:00  291.8916      291.213388\n",
       "2014-10-04 08:29:00  100.9008      133.756638\n",
       "2014-10-06 03:59:00  127.9278      135.401420\n",
       "2014-10-05 21:34:00  232.4322      271.043312\n",
       "2014-10-04 00:19:00  288.2880      287.470892"
      ]
     },
     "execution_count": 49,
     "metadata": {},
     "output_type": "execute_result"
    }
   ],
   "source": [
    "results = pd.DataFrame(y_test)\n",
    "results['predictions_rf'] = predictions_rf\n",
    "results.head()"
   ]
  },
  {
   "cell_type": "code",
   "execution_count": 51,
   "metadata": {},
   "outputs": [
    {
     "data": {
      "image/png": "[encoded data removed]",
      "text/plain": [
       "<Figure size 648x288 with 1 Axes>"
      ]
     },
     "metadata": {
      "needs_background": "light"
     },
     "output_type": "display_data"
    }
   ],
   "source": [
    "# Gráfico\n",
    "# ==============================================================================\n",
    "fig, ax = plt.subplots(figsize=(9, 4))\n",
    "results['glucose'].plot(ax=ax, label='train')\n",
    "results['predictions_rf'].plot(ax=ax, label='test')\n",
    "ax.legend();"
   ]
  },
  {
   "cell_type": "code",
   "execution_count": 52,
   "metadata": {},
   "outputs": [],
   "source": [
    "from sklearn.metrics import mean_squared_error\n",
    "\n",
    "rmse_rf = mean_squared_error(y_test, predictions_rf, squared=False)"
   ]
  },
  {
   "cell_type": "code",
   "execution_count": 53,
   "metadata": {},
   "outputs": [
    {
     "data": {
      "text/html": [
       "<div>\n",
       "<style scoped>\n",
       "    .dataframe tbody tr th:only-of-type {\n",
       "        vertical-align: middle;\n",
       "    }\n",
       "\n",
       "    .dataframe tbody tr th {\n",
       "        vertical-align: top;\n",
       "    }\n",
       "\n",
       "    .dataframe thead th {\n",
       "        text-align: right;\n",
       "    }\n",
       "</style>\n",
       "<table border=\"1\" class=\"dataframe\">\n",
       "  <thead>\n",
       "    <tr style=\"text-align: right;\">\n",
       "      <th></th>\n",
       "      <th>glucose</th>\n",
       "      <th>predictions_rf</th>\n",
       "      <th>rmse_rf</th>\n",
       "    </tr>\n",
       "    <tr>\n",
       "      <th>datetime</th>\n",
       "      <th></th>\n",
       "      <th></th>\n",
       "      <th></th>\n",
       "    </tr>\n",
       "  </thead>\n",
       "  <tbody>\n",
       "    <tr>\n",
       "      <th>2014-10-03 23:54:00</th>\n",
       "      <td>291.8916</td>\n",
       "      <td>291.213388</td>\n",
       "      <td>25.097003</td>\n",
       "    </tr>\n",
       "    <tr>\n",
       "      <th>2014-10-04 08:29:00</th>\n",
       "      <td>100.9008</td>\n",
       "      <td>133.756638</td>\n",
       "      <td>25.097003</td>\n",
       "    </tr>\n",
       "    <tr>\n",
       "      <th>2014-10-06 03:59:00</th>\n",
       "      <td>127.9278</td>\n",
       "      <td>135.401420</td>\n",
       "      <td>25.097003</td>\n",
       "    </tr>\n",
       "    <tr>\n",
       "      <th>2014-10-05 21:34:00</th>\n",
       "      <td>232.4322</td>\n",
       "      <td>271.043312</td>\n",
       "      <td>25.097003</td>\n",
       "    </tr>\n",
       "    <tr>\n",
       "      <th>2014-10-04 00:19:00</th>\n",
       "      <td>288.2880</td>\n",
       "      <td>287.470892</td>\n",
       "      <td>25.097003</td>\n",
       "    </tr>\n",
       "  </tbody>\n",
       "</table>\n",
       "</div>"
      ],
      "text/plain": [
       "                      glucose  predictions_rf    rmse_rf\n",
       "datetime                                                \n",
       "2014-10-03 23:54:00  291.8916      291.213388  25.097003\n",
       "2014-10-04 08:29:00  100.9008      133.756638  25.097003\n",
       "2014-10-06 03:59:00  127.9278      135.401420  25.097003\n",
       "2014-10-05 21:34:00  232.4322      271.043312  25.097003\n",
       "2014-10-04 00:19:00  288.2880      287.470892  25.097003"
      ]
     },
     "execution_count": 53,
     "metadata": {},
     "output_type": "execute_result"
    }
   ],
   "source": [
    "results['rmse_rf'] = rmse_rf\n",
    "results.head()"
   ]
  },
  {
   "cell_type": "code",
   "execution_count": 55,
   "metadata": {},
   "outputs": [
    {
     "data": {
      "text/plain": [
       "<AxesSubplot:>"
      ]
     },
     "execution_count": 55,
     "metadata": {},
     "output_type": "execute_result"
    },
    {
     "data": {
      "image/png": "[encoded data removed]",
      "text/plain": [
       "<Figure size 432x288 with 1 Axes>"
      ]
     },
     "metadata": {
      "needs_background": "light"
     },
     "output_type": "display_data"
    }
   ],
   "source": [
    "df_g['glucose'].hist(bins=100)"
   ]
  },
  {
   "cell_type": "code",
   "execution_count": 56,
   "metadata": {},
   "outputs": [
    {
     "data": {
      "text/plain": [
       "<AxesSubplot:xlabel='glucose', ylabel='Density'>"
      ]
     },
     "execution_count": 56,
     "metadata": {},
     "output_type": "execute_result"
    },
    {
     "data": {
      "image/png": "[encoded data removed]",
      "text/plain": [
       "<Figure size 432x288 with 1 Axes>"
      ]
     },
     "metadata": {
      "needs_background": "light"
     },
     "output_type": "display_data"
    }
   ],
   "source": [
    "sns.distplot(df_g['glucose'])"
   ]
  },
  {
   "cell_type": "markdown",
   "metadata": {},
   "source": [
    "Linear Regression\n"
   ]
  },
  {
   "cell_type": "code",
   "execution_count": 57,
   "metadata": {},
   "outputs": [
    {
     "data": {
      "text/plain": [
       "LinearRegression()"
      ]
     },
     "execution_count": 57,
     "metadata": {},
     "output_type": "execute_result"
    }
   ],
   "source": [
    "from sklearn.linear_model import LinearRegression\n",
    "modelo = LinearRegression()\n",
    "modelo.fit(Scaled_train, y_train)"
   ]
  },
  {
   "cell_type": "code",
   "execution_count": 58,
   "metadata": {},
   "outputs": [],
   "source": [
    "predictions_rl = modelo.predict(Scaled_test)"
   ]
  },
  {
   "cell_type": "code",
   "execution_count": 59,
   "metadata": {},
   "outputs": [
    {
     "data": {
      "text/html": [
       "<div>\n",
       "<style scoped>\n",
       "    .dataframe tbody tr th:only-of-type {\n",
       "        vertical-align: middle;\n",
       "    }\n",
       "\n",
       "    .dataframe tbody tr th {\n",
       "        vertical-align: top;\n",
       "    }\n",
       "\n",
       "    .dataframe thead th {\n",
       "        text-align: right;\n",
       "    }\n",
       "</style>\n",
       "<table border=\"1\" class=\"dataframe\">\n",
       "  <thead>\n",
       "    <tr style=\"text-align: right;\">\n",
       "      <th></th>\n",
       "      <th>glucose</th>\n",
       "      <th>predictions_rf</th>\n",
       "      <th>rmse_rf</th>\n",
       "      <th>predictions_rl</th>\n",
       "      <th>rmse_rl</th>\n",
       "    </tr>\n",
       "    <tr>\n",
       "      <th>datetime</th>\n",
       "      <th></th>\n",
       "      <th></th>\n",
       "      <th></th>\n",
       "      <th></th>\n",
       "      <th></th>\n",
       "    </tr>\n",
       "  </thead>\n",
       "  <tbody>\n",
       "    <tr>\n",
       "      <th>2014-10-03 23:54:00</th>\n",
       "      <td>291.8916</td>\n",
       "      <td>291.213388</td>\n",
       "      <td>25.097003</td>\n",
       "      <td>286.488210</td>\n",
       "      <td>30.810814</td>\n",
       "    </tr>\n",
       "    <tr>\n",
       "      <th>2014-10-04 08:29:00</th>\n",
       "      <td>100.9008</td>\n",
       "      <td>133.756638</td>\n",
       "      <td>25.097003</td>\n",
       "      <td>136.701733</td>\n",
       "      <td>30.810814</td>\n",
       "    </tr>\n",
       "    <tr>\n",
       "      <th>2014-10-06 03:59:00</th>\n",
       "      <td>127.9278</td>\n",
       "      <td>135.401420</td>\n",
       "      <td>25.097003</td>\n",
       "      <td>147.087809</td>\n",
       "      <td>30.810814</td>\n",
       "    </tr>\n",
       "    <tr>\n",
       "      <th>2014-10-05 21:34:00</th>\n",
       "      <td>232.4322</td>\n",
       "      <td>271.043312</td>\n",
       "      <td>25.097003</td>\n",
       "      <td>237.082073</td>\n",
       "      <td>30.810814</td>\n",
       "    </tr>\n",
       "    <tr>\n",
       "      <th>2014-10-04 00:19:00</th>\n",
       "      <td>288.2880</td>\n",
       "      <td>287.470892</td>\n",
       "      <td>25.097003</td>\n",
       "      <td>265.000212</td>\n",
       "      <td>30.810814</td>\n",
       "    </tr>\n",
       "  </tbody>\n",
       "</table>\n",
       "</div>"
      ],
      "text/plain": [
       "                      glucose  predictions_rf    rmse_rf  predictions_rl  \\\n",
       "datetime                                                                   \n",
       "2014-10-03 23:54:00  291.8916      291.213388  25.097003      286.488210   \n",
       "2014-10-04 08:29:00  100.9008      133.756638  25.097003      136.701733   \n",
       "2014-10-06 03:59:00  127.9278      135.401420  25.097003      147.087809   \n",
       "2014-10-05 21:34:00  232.4322      271.043312  25.097003      237.082073   \n",
       "2014-10-04 00:19:00  288.2880      287.470892  25.097003      265.000212   \n",
       "\n",
       "                       rmse_rl  \n",
       "datetime                        \n",
       "2014-10-03 23:54:00  30.810814  \n",
       "2014-10-04 08:29:00  30.810814  \n",
       "2014-10-06 03:59:00  30.810814  \n",
       "2014-10-05 21:34:00  30.810814  \n",
       "2014-10-04 00:19:00  30.810814  "
      ]
     },
     "execution_count": 59,
     "metadata": {},
     "output_type": "execute_result"
    }
   ],
   "source": [
    "results['predictions_rl'] = predictions_rl\n",
    "rmse_rl = mean_squared_error(y_test, predictions_rl, squared=False)\n",
    "results['rmse_rl'] = rmse_rl\n",
    "results.head()"
   ]
  },
  {
   "cell_type": "code",
   "execution_count": 60,
   "metadata": {},
   "outputs": [
    {
     "data": {
      "image/png": "[encoded data removed]",
      "text/plain": [
       "<Figure size 648x288 with 1 Axes>"
      ]
     },
     "metadata": {
      "needs_background": "light"
     },
     "output_type": "display_data"
    }
   ],
   "source": [
    "# Gráfico\n",
    "# ==============================================================================\n",
    "fig, ax = plt.subplots(figsize=(9, 4))\n",
    "results['glucose'].plot(ax=ax, label='train')\n",
    "results['predictions_rl'].plot(ax=ax, label='test')\n",
    "ax.legend();"
   ]
  },
  {
   "cell_type": "markdown",
   "metadata": {},
   "source": [
    "Como la raíz cuadrada de una varianza, RMSE se puede interpretar como la desviación estándar de la varianza inexplicada, y tiene la propiedad útil de estar en las mismas unidades que la variable de respuesta.\n",
    "\n",
    "Los valores más bajos de RMSE indican un mejor ajuste. RMSE es una buena medida de la precisión con que el modelo predice la respuesta, y es el criterio más importante para ajustar si el propósito principal del modelo es la predicción."
   ]
  }
 ],
 "metadata": {
  "kernelspec": {
   "display_name": "Python 3",
   "language": "python",
   "name": "python3"
  },
  "language_info": {
   "codemirror_mode": {
    "name": "ipython",
    "version": 3
   },
   "file_extension": ".py",
   "mimetype": "text/x-python",
   "name": "python",
   "nbconvert_exporter": "python",
   "pygments_lexer": "ipython3",
   "version": "3.8.5"
  }
 },
 "nbformat": 4,
 "nbformat_minor": 4
}
